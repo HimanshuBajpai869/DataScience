{
 "cells": [
  {
   "cell_type": "code",
   "execution_count": 1,
   "metadata": {},
   "outputs": [
    {
     "name": "stdout",
     "output_type": "stream",
     "text": [
      "Libraries are imported successfully.\n"
     ]
    }
   ],
   "source": [
    "import pandas as pd\n",
    "import matplotlib.pyplot as plt\n",
    "from sklearn.cluster import KMeans\n",
    "from sklearn.cluster import AgglomerativeClustering\n",
    "import scipy.cluster.hierarchy as sch\n",
    "import warnings\n",
    "warnings.filterwarnings(\"ignore\")\n",
    "print('Libraries are imported successfully.')"
   ]
  },
  {
   "cell_type": "code",
   "execution_count": 19,
   "metadata": {},
   "outputs": [
    {
     "name": "stdout",
     "output_type": "stream",
     "text": [
      "Dataset is successfully imported with dimensions (18, 9).\n"
     ]
    }
   ],
   "source": [
    "dataset = pd.read_csv(r\"Datasets\\Gate2021.csv\")\n",
    "print(f'Dataset is successfully imported with dimensions {dataset.shape}.')"
   ]
  },
  {
   "cell_type": "code",
   "execution_count": 3,
   "metadata": {
    "scrolled": true
   },
   "outputs": [
    {
     "name": "stdout",
     "output_type": "stream",
     "text": [
      "Take a look at the dataset.\n"
     ]
    },
    {
     "data": {
      "text/html": [
       "<div>\n",
       "<style scoped>\n",
       "    .dataframe tbody tr th:only-of-type {\n",
       "        vertical-align: middle;\n",
       "    }\n",
       "\n",
       "    .dataframe tbody tr th {\n",
       "        vertical-align: top;\n",
       "    }\n",
       "\n",
       "    .dataframe thead th {\n",
       "        text-align: right;\n",
       "    }\n",
       "</style>\n",
       "<table border=\"1\" class=\"dataframe\">\n",
       "  <thead>\n",
       "    <tr style=\"text-align: right;\">\n",
       "      <th></th>\n",
       "      <th>Sl.\\nNo.</th>\n",
       "      <th>Paper Code</th>\n",
       "      <th>Avg.\\nMarks (x)\\n(out of\\n100)</th>\n",
       "      <th>Std.\\ndev. (μ)</th>\n",
       "      <th>Cut-off\\nMarks\\n(out of\\n100) for\\nGeneral</th>\n",
       "      <th>Cut-off Marks\\n(out of 100) for\\nOBC-(NCL)/EWS\\n(0.9*Cut-off\\nMarks for\\nGeneral)</th>\n",
       "      <th>Cut-off Marks\\n(out of 100) for\\nSC/ST/PwD\\n(0.67*Cut-off\\nMarks for\\nGeneral)</th>\n",
       "      <th>% Qualified\\nCandidates</th>\n",
       "      <th>Candidates\\nAppeared</th>\n",
       "    </tr>\n",
       "  </thead>\n",
       "  <tbody>\n",
       "    <tr>\n",
       "      <th>0</th>\n",
       "      <td>1</td>\n",
       "      <td>AE</td>\n",
       "      <td>15.40</td>\n",
       "      <td>10.90</td>\n",
       "      <td>26.3</td>\n",
       "      <td>23.6</td>\n",
       "      <td>17.5</td>\n",
       "      <td>17.70</td>\n",
       "      <td>4914</td>\n",
       "    </tr>\n",
       "    <tr>\n",
       "      <th>1</th>\n",
       "      <td>2</td>\n",
       "      <td>AG</td>\n",
       "      <td>11.93</td>\n",
       "      <td>10.20</td>\n",
       "      <td>25.0</td>\n",
       "      <td>22.5</td>\n",
       "      <td>16.6</td>\n",
       "      <td>13.61</td>\n",
       "      <td>2277</td>\n",
       "    </tr>\n",
       "    <tr>\n",
       "      <th>2</th>\n",
       "      <td>3</td>\n",
       "      <td>AR</td>\n",
       "      <td>28.95</td>\n",
       "      <td>11.95</td>\n",
       "      <td>40.9</td>\n",
       "      <td>36.8</td>\n",
       "      <td>27.2</td>\n",
       "      <td>22.46</td>\n",
       "      <td>10857</td>\n",
       "    </tr>\n",
       "    <tr>\n",
       "      <th>3</th>\n",
       "      <td>4</td>\n",
       "      <td>BM</td>\n",
       "      <td>15.43</td>\n",
       "      <td>9.25</td>\n",
       "      <td>25.0</td>\n",
       "      <td>22.5</td>\n",
       "      <td>16.6</td>\n",
       "      <td>19.06</td>\n",
       "      <td>1684</td>\n",
       "    </tr>\n",
       "    <tr>\n",
       "      <th>4</th>\n",
       "      <td>5</td>\n",
       "      <td>BT</td>\n",
       "      <td>18.00</td>\n",
       "      <td>12.00</td>\n",
       "      <td>30.0</td>\n",
       "      <td>27.0</td>\n",
       "      <td>20.0</td>\n",
       "      <td>19.89</td>\n",
       "      <td>13186</td>\n",
       "    </tr>\n",
       "    <tr>\n",
       "      <th>5</th>\n",
       "      <td>6</td>\n",
       "      <td>CE*</td>\n",
       "      <td>15.30</td>\n",
       "      <td>13.90</td>\n",
       "      <td>29.2</td>\n",
       "      <td>26.2</td>\n",
       "      <td>19.4</td>\n",
       "      <td>17.45</td>\n",
       "      <td>115270</td>\n",
       "    </tr>\n",
       "    <tr>\n",
       "      <th>6</th>\n",
       "      <td>7</td>\n",
       "      <td>CH</td>\n",
       "      <td>19.40</td>\n",
       "      <td>15.70</td>\n",
       "      <td>35.1</td>\n",
       "      <td>31.5</td>\n",
       "      <td>23.4</td>\n",
       "      <td>20.35</td>\n",
       "      <td>16705</td>\n",
       "    </tr>\n",
       "    <tr>\n",
       "      <th>7</th>\n",
       "      <td>8</td>\n",
       "      <td>CS*</td>\n",
       "      <td>14.00</td>\n",
       "      <td>12.10</td>\n",
       "      <td>26.1</td>\n",
       "      <td>23.4</td>\n",
       "      <td>17.4</td>\n",
       "      <td>17.73</td>\n",
       "      <td>101922</td>\n",
       "    </tr>\n",
       "    <tr>\n",
       "      <th>8</th>\n",
       "      <td>9</td>\n",
       "      <td>CY</td>\n",
       "      <td>20.90</td>\n",
       "      <td>15.30</td>\n",
       "      <td>36.2</td>\n",
       "      <td>32.5</td>\n",
       "      <td>24.1</td>\n",
       "      <td>19.94</td>\n",
       "      <td>23465</td>\n",
       "    </tr>\n",
       "    <tr>\n",
       "      <th>9</th>\n",
       "      <td>10</td>\n",
       "      <td>EC</td>\n",
       "      <td>12.63</td>\n",
       "      <td>10.00</td>\n",
       "      <td>25.0</td>\n",
       "      <td>22.5</td>\n",
       "      <td>16.6</td>\n",
       "      <td>14.15</td>\n",
       "      <td>80629</td>\n",
       "    </tr>\n",
       "    <tr>\n",
       "      <th>10</th>\n",
       "      <td>11</td>\n",
       "      <td>EE</td>\n",
       "      <td>17.26</td>\n",
       "      <td>13.04</td>\n",
       "      <td>30.3</td>\n",
       "      <td>27.2</td>\n",
       "      <td>20.2</td>\n",
       "      <td>17.70</td>\n",
       "      <td>87559</td>\n",
       "    </tr>\n",
       "    <tr>\n",
       "      <th>11</th>\n",
       "      <td>12</td>\n",
       "      <td>ES</td>\n",
       "      <td>23.90</td>\n",
       "      <td>15.70</td>\n",
       "      <td>39.6</td>\n",
       "      <td>35.6</td>\n",
       "      <td>26.4</td>\n",
       "      <td>21.20</td>\n",
       "      <td>9183</td>\n",
       "    </tr>\n",
       "    <tr>\n",
       "      <th>12</th>\n",
       "      <td>13</td>\n",
       "      <td>EY</td>\n",
       "      <td>23.50</td>\n",
       "      <td>12.20</td>\n",
       "      <td>35.7</td>\n",
       "      <td>32.1</td>\n",
       "      <td>23.8</td>\n",
       "      <td>19.96</td>\n",
       "      <td>1718</td>\n",
       "    </tr>\n",
       "    <tr>\n",
       "      <th>13</th>\n",
       "      <td>14</td>\n",
       "      <td>GG (Geology)</td>\n",
       "      <td>25.60</td>\n",
       "      <td>13.30</td>\n",
       "      <td>38.9</td>\n",
       "      <td>35.0</td>\n",
       "      <td>25.9</td>\n",
       "      <td>24.74</td>\n",
       "      <td>4797</td>\n",
       "    </tr>\n",
       "    <tr>\n",
       "      <th>14</th>\n",
       "      <td>15</td>\n",
       "      <td>GG (Geophysics)</td>\n",
       "      <td>28.85</td>\n",
       "      <td>15.95</td>\n",
       "      <td>44.8</td>\n",
       "      <td>40.3</td>\n",
       "      <td>29.8</td>\n",
       "      <td>31.84</td>\n",
       "      <td>826</td>\n",
       "    </tr>\n",
       "    <tr>\n",
       "      <th>15</th>\n",
       "      <td>16</td>\n",
       "      <td>IN</td>\n",
       "      <td>20.94</td>\n",
       "      <td>15.06</td>\n",
       "      <td>36.0</td>\n",
       "      <td>32.4</td>\n",
       "      <td>24.0</td>\n",
       "      <td>21.44</td>\n",
       "      <td>16770</td>\n",
       "    </tr>\n",
       "    <tr>\n",
       "      <th>16</th>\n",
       "      <td>17</td>\n",
       "      <td>MA</td>\n",
       "      <td>19.20</td>\n",
       "      <td>9.80</td>\n",
       "      <td>29.0</td>\n",
       "      <td>26.1</td>\n",
       "      <td>19.3</td>\n",
       "      <td>22.88</td>\n",
       "      <td>11635</td>\n",
       "    </tr>\n",
       "    <tr>\n",
       "      <th>17</th>\n",
       "      <td>18</td>\n",
       "      <td>ME*</td>\n",
       "      <td>16.60</td>\n",
       "      <td>16.40</td>\n",
       "      <td>33.0</td>\n",
       "      <td>29.7</td>\n",
       "      <td>22.0</td>\n",
       "      <td>17.38</td>\n",
       "      <td>120594</td>\n",
       "    </tr>\n",
       "  </tbody>\n",
       "</table>\n",
       "</div>"
      ],
      "text/plain": [
       "    Sl.\\nNo.       Paper Code  Avg.\\nMarks (x)\\n(out of\\n100)  Std.\\ndev. (μ)  \\\n",
       "0          1               AE                           15.40           10.90   \n",
       "1          2               AG                           11.93           10.20   \n",
       "2          3               AR                           28.95           11.95   \n",
       "3          4               BM                           15.43            9.25   \n",
       "4          5               BT                           18.00           12.00   \n",
       "5          6              CE*                           15.30           13.90   \n",
       "6          7               CH                           19.40           15.70   \n",
       "7          8              CS*                           14.00           12.10   \n",
       "8          9               CY                           20.90           15.30   \n",
       "9         10               EC                           12.63           10.00   \n",
       "10        11               EE                           17.26           13.04   \n",
       "11        12               ES                           23.90           15.70   \n",
       "12        13               EY                           23.50           12.20   \n",
       "13        14     GG (Geology)                           25.60           13.30   \n",
       "14        15  GG (Geophysics)                           28.85           15.95   \n",
       "15        16               IN                           20.94           15.06   \n",
       "16        17               MA                           19.20            9.80   \n",
       "17        18              ME*                           16.60           16.40   \n",
       "\n",
       "    Cut-off\\nMarks\\n(out of\\n100) for\\nGeneral  \\\n",
       "0                                         26.3   \n",
       "1                                         25.0   \n",
       "2                                         40.9   \n",
       "3                                         25.0   \n",
       "4                                         30.0   \n",
       "5                                         29.2   \n",
       "6                                         35.1   \n",
       "7                                         26.1   \n",
       "8                                         36.2   \n",
       "9                                         25.0   \n",
       "10                                        30.3   \n",
       "11                                        39.6   \n",
       "12                                        35.7   \n",
       "13                                        38.9   \n",
       "14                                        44.8   \n",
       "15                                        36.0   \n",
       "16                                        29.0   \n",
       "17                                        33.0   \n",
       "\n",
       "    Cut-off Marks\\n(out of 100) for\\nOBC-(NCL)/EWS\\n(0.9*Cut-off\\nMarks for\\nGeneral)  \\\n",
       "0                                                23.6                                   \n",
       "1                                                22.5                                   \n",
       "2                                                36.8                                   \n",
       "3                                                22.5                                   \n",
       "4                                                27.0                                   \n",
       "5                                                26.2                                   \n",
       "6                                                31.5                                   \n",
       "7                                                23.4                                   \n",
       "8                                                32.5                                   \n",
       "9                                                22.5                                   \n",
       "10                                               27.2                                   \n",
       "11                                               35.6                                   \n",
       "12                                               32.1                                   \n",
       "13                                               35.0                                   \n",
       "14                                               40.3                                   \n",
       "15                                               32.4                                   \n",
       "16                                               26.1                                   \n",
       "17                                               29.7                                   \n",
       "\n",
       "    Cut-off Marks\\n(out of 100) for\\nSC/ST/PwD\\n(0.67*Cut-off\\nMarks for\\nGeneral)  \\\n",
       "0                                                17.5                                \n",
       "1                                                16.6                                \n",
       "2                                                27.2                                \n",
       "3                                                16.6                                \n",
       "4                                                20.0                                \n",
       "5                                                19.4                                \n",
       "6                                                23.4                                \n",
       "7                                                17.4                                \n",
       "8                                                24.1                                \n",
       "9                                                16.6                                \n",
       "10                                               20.2                                \n",
       "11                                               26.4                                \n",
       "12                                               23.8                                \n",
       "13                                               25.9                                \n",
       "14                                               29.8                                \n",
       "15                                               24.0                                \n",
       "16                                               19.3                                \n",
       "17                                               22.0                                \n",
       "\n",
       "    % Qualified\\nCandidates  Candidates\\nAppeared  \n",
       "0                     17.70                  4914  \n",
       "1                     13.61                  2277  \n",
       "2                     22.46                 10857  \n",
       "3                     19.06                  1684  \n",
       "4                     19.89                 13186  \n",
       "5                     17.45                115270  \n",
       "6                     20.35                 16705  \n",
       "7                     17.73                101922  \n",
       "8                     19.94                 23465  \n",
       "9                     14.15                 80629  \n",
       "10                    17.70                 87559  \n",
       "11                    21.20                  9183  \n",
       "12                    19.96                  1718  \n",
       "13                    24.74                  4797  \n",
       "14                    31.84                   826  \n",
       "15                    21.44                 16770  \n",
       "16                    22.88                 11635  \n",
       "17                    17.38                120594  "
      ]
     },
     "execution_count": 3,
     "metadata": {},
     "output_type": "execute_result"
    }
   ],
   "source": [
    "print('Take a look at the dataset.')\n",
    "dataset"
   ]
  },
  {
   "cell_type": "markdown",
   "metadata": {},
   "source": [
    "## Data PreProcessing"
   ]
  },
  {
   "cell_type": "code",
   "execution_count": 4,
   "metadata": {},
   "outputs": [
    {
     "name": "stdout",
     "output_type": "stream",
     "text": [
      "Columns of the dataset are Index(['Sl.\\nNo.', 'Paper Code', 'Avg.\\nMarks (x)\\n(out of\\n100)',\n",
      "       'Std.\\ndev. (μ)', 'Cut-off\\nMarks\\n(out of\\n100) for\\nGeneral',\n",
      "       'Cut-off Marks\\n(out of 100) for\\nOBC-(NCL)/EWS\\n(0.9*Cut-off\\nMarks for\\nGeneral)',\n",
      "       'Cut-off Marks\\n(out of 100) for\\nSC/ST/PwD\\n(0.67*Cut-off\\nMarks for\\nGeneral)',\n",
      "       '% Qualified\\nCandidates', 'Candidates\\nAppeared'],\n",
      "      dtype='object')\n"
     ]
    }
   ],
   "source": [
    "print(f'Columns of the dataset are {dataset.columns}')"
   ]
  },
  {
   "cell_type": "markdown",
   "metadata": {},
   "source": [
    "As we can see column names are not easy to manipulate, hence lets change them to something short and meaningful."
   ]
  },
  {
   "cell_type": "code",
   "execution_count": 5,
   "metadata": {},
   "outputs": [],
   "source": [
    "dataset.columns = ['SNo','PaperCode','AvgMarks','StdDev','CutOffMarksGen','CutOffMarksOBC','CutOffMarksPwd','QualifiedCandidates','CandidatesAppeared']"
   ]
  },
  {
   "cell_type": "code",
   "execution_count": 6,
   "metadata": {},
   "outputs": [
    {
     "data": {
      "text/html": [
       "<div>\n",
       "<style scoped>\n",
       "    .dataframe tbody tr th:only-of-type {\n",
       "        vertical-align: middle;\n",
       "    }\n",
       "\n",
       "    .dataframe tbody tr th {\n",
       "        vertical-align: top;\n",
       "    }\n",
       "\n",
       "    .dataframe thead th {\n",
       "        text-align: right;\n",
       "    }\n",
       "</style>\n",
       "<table border=\"1\" class=\"dataframe\">\n",
       "  <thead>\n",
       "    <tr style=\"text-align: right;\">\n",
       "      <th></th>\n",
       "      <th>SNo</th>\n",
       "      <th>PaperCode</th>\n",
       "      <th>AvgMarks</th>\n",
       "      <th>StdDev</th>\n",
       "      <th>CutOffMarksGen</th>\n",
       "      <th>CutOffMarksOBC</th>\n",
       "      <th>CutOffMarksPwd</th>\n",
       "      <th>QualifiedCandidates</th>\n",
       "      <th>CandidatesAppeared</th>\n",
       "    </tr>\n",
       "  </thead>\n",
       "  <tbody>\n",
       "    <tr>\n",
       "      <th>0</th>\n",
       "      <td>1</td>\n",
       "      <td>AE</td>\n",
       "      <td>15.40</td>\n",
       "      <td>10.90</td>\n",
       "      <td>26.3</td>\n",
       "      <td>23.6</td>\n",
       "      <td>17.5</td>\n",
       "      <td>17.70</td>\n",
       "      <td>4914</td>\n",
       "    </tr>\n",
       "    <tr>\n",
       "      <th>1</th>\n",
       "      <td>2</td>\n",
       "      <td>AG</td>\n",
       "      <td>11.93</td>\n",
       "      <td>10.20</td>\n",
       "      <td>25.0</td>\n",
       "      <td>22.5</td>\n",
       "      <td>16.6</td>\n",
       "      <td>13.61</td>\n",
       "      <td>2277</td>\n",
       "    </tr>\n",
       "    <tr>\n",
       "      <th>2</th>\n",
       "      <td>3</td>\n",
       "      <td>AR</td>\n",
       "      <td>28.95</td>\n",
       "      <td>11.95</td>\n",
       "      <td>40.9</td>\n",
       "      <td>36.8</td>\n",
       "      <td>27.2</td>\n",
       "      <td>22.46</td>\n",
       "      <td>10857</td>\n",
       "    </tr>\n",
       "    <tr>\n",
       "      <th>3</th>\n",
       "      <td>4</td>\n",
       "      <td>BM</td>\n",
       "      <td>15.43</td>\n",
       "      <td>9.25</td>\n",
       "      <td>25.0</td>\n",
       "      <td>22.5</td>\n",
       "      <td>16.6</td>\n",
       "      <td>19.06</td>\n",
       "      <td>1684</td>\n",
       "    </tr>\n",
       "    <tr>\n",
       "      <th>4</th>\n",
       "      <td>5</td>\n",
       "      <td>BT</td>\n",
       "      <td>18.00</td>\n",
       "      <td>12.00</td>\n",
       "      <td>30.0</td>\n",
       "      <td>27.0</td>\n",
       "      <td>20.0</td>\n",
       "      <td>19.89</td>\n",
       "      <td>13186</td>\n",
       "    </tr>\n",
       "  </tbody>\n",
       "</table>\n",
       "</div>"
      ],
      "text/plain": [
       "   SNo PaperCode  AvgMarks  StdDev  CutOffMarksGen  CutOffMarksOBC  \\\n",
       "0    1        AE     15.40   10.90            26.3            23.6   \n",
       "1    2        AG     11.93   10.20            25.0            22.5   \n",
       "2    3        AR     28.95   11.95            40.9            36.8   \n",
       "3    4        BM     15.43    9.25            25.0            22.5   \n",
       "4    5        BT     18.00   12.00            30.0            27.0   \n",
       "\n",
       "   CutOffMarksPwd  QualifiedCandidates  CandidatesAppeared  \n",
       "0            17.5                17.70                4914  \n",
       "1            16.6                13.61                2277  \n",
       "2            27.2                22.46               10857  \n",
       "3            16.6                19.06                1684  \n",
       "4            20.0                19.89               13186  "
      ]
     },
     "execution_count": 6,
     "metadata": {},
     "output_type": "execute_result"
    }
   ],
   "source": [
    "dataset.head()"
   ]
  },
  {
   "cell_type": "markdown",
   "metadata": {},
   "source": [
    "#### For understanding clustering, we will take PaperCode and AvgMarks columns and will see how K-Means and Hierarchial clustering helps in arranging them in groups."
   ]
  },
  {
   "cell_type": "markdown",
   "metadata": {},
   "source": [
    "Since, the PaperCode column is string, lets write a utility function to convert to numeric so that algorithms can be applied."
   ]
  },
  {
   "cell_type": "code",
   "execution_count": 7,
   "metadata": {},
   "outputs": [],
   "source": [
    "def convert_paper_code_to_numeric(paperCode):\n",
    "    if paperCode == 'AE':\n",
    "        return 1\n",
    "    elif paperCode == 'AG':\n",
    "        return 2\n",
    "    elif paperCode == 'AR':\n",
    "        return 3\n",
    "    elif paperCode == 'BM':\n",
    "        return 4\n",
    "    elif paperCode == 'BT':\n",
    "        return 5\n",
    "    elif paperCode == 'CE*':\n",
    "        return 6\n",
    "    elif paperCode == 'CH':\n",
    "        return 7\n",
    "    elif paperCode == 'CS*':\n",
    "        return 8\n",
    "    elif paperCode == 'CY':\n",
    "        return 9\n",
    "    elif paperCode == 'EC':\n",
    "        return 10\n",
    "    elif paperCode == 'EE':\n",
    "        return 11\n",
    "    elif paperCode == 'ES':\n",
    "        return 12\n",
    "    elif paperCode == 'EY':\n",
    "        return 13\n",
    "    elif paperCode == 'GG (Geology)':\n",
    "        return 14\n",
    "    elif paperCode == 'GG (Geophysics)':\n",
    "        return 15\n",
    "    elif paperCode == 'IN':\n",
    "        return 16\n",
    "    elif paperCode == 'MA':\n",
    "        return 17\n",
    "    else:\n",
    "        return 18"
   ]
  },
  {
   "cell_type": "code",
   "execution_count": 8,
   "metadata": {},
   "outputs": [],
   "source": [
    "dataset['PaperCode'] = dataset.PaperCode.apply(lambda paperCode : convert_paper_code_to_numeric(paperCode))"
   ]
  },
  {
   "cell_type": "code",
   "execution_count": 9,
   "metadata": {},
   "outputs": [
    {
     "data": {
      "text/html": [
       "<div>\n",
       "<style scoped>\n",
       "    .dataframe tbody tr th:only-of-type {\n",
       "        vertical-align: middle;\n",
       "    }\n",
       "\n",
       "    .dataframe tbody tr th {\n",
       "        vertical-align: top;\n",
       "    }\n",
       "\n",
       "    .dataframe thead th {\n",
       "        text-align: right;\n",
       "    }\n",
       "</style>\n",
       "<table border=\"1\" class=\"dataframe\">\n",
       "  <thead>\n",
       "    <tr style=\"text-align: right;\">\n",
       "      <th></th>\n",
       "      <th>SNo</th>\n",
       "      <th>PaperCode</th>\n",
       "      <th>AvgMarks</th>\n",
       "      <th>StdDev</th>\n",
       "      <th>CutOffMarksGen</th>\n",
       "      <th>CutOffMarksOBC</th>\n",
       "      <th>CutOffMarksPwd</th>\n",
       "      <th>QualifiedCandidates</th>\n",
       "      <th>CandidatesAppeared</th>\n",
       "    </tr>\n",
       "  </thead>\n",
       "  <tbody>\n",
       "    <tr>\n",
       "      <th>0</th>\n",
       "      <td>1</td>\n",
       "      <td>1</td>\n",
       "      <td>15.40</td>\n",
       "      <td>10.90</td>\n",
       "      <td>26.3</td>\n",
       "      <td>23.6</td>\n",
       "      <td>17.5</td>\n",
       "      <td>17.70</td>\n",
       "      <td>4914</td>\n",
       "    </tr>\n",
       "    <tr>\n",
       "      <th>1</th>\n",
       "      <td>2</td>\n",
       "      <td>2</td>\n",
       "      <td>11.93</td>\n",
       "      <td>10.20</td>\n",
       "      <td>25.0</td>\n",
       "      <td>22.5</td>\n",
       "      <td>16.6</td>\n",
       "      <td>13.61</td>\n",
       "      <td>2277</td>\n",
       "    </tr>\n",
       "    <tr>\n",
       "      <th>2</th>\n",
       "      <td>3</td>\n",
       "      <td>3</td>\n",
       "      <td>28.95</td>\n",
       "      <td>11.95</td>\n",
       "      <td>40.9</td>\n",
       "      <td>36.8</td>\n",
       "      <td>27.2</td>\n",
       "      <td>22.46</td>\n",
       "      <td>10857</td>\n",
       "    </tr>\n",
       "    <tr>\n",
       "      <th>3</th>\n",
       "      <td>4</td>\n",
       "      <td>4</td>\n",
       "      <td>15.43</td>\n",
       "      <td>9.25</td>\n",
       "      <td>25.0</td>\n",
       "      <td>22.5</td>\n",
       "      <td>16.6</td>\n",
       "      <td>19.06</td>\n",
       "      <td>1684</td>\n",
       "    </tr>\n",
       "    <tr>\n",
       "      <th>4</th>\n",
       "      <td>5</td>\n",
       "      <td>5</td>\n",
       "      <td>18.00</td>\n",
       "      <td>12.00</td>\n",
       "      <td>30.0</td>\n",
       "      <td>27.0</td>\n",
       "      <td>20.0</td>\n",
       "      <td>19.89</td>\n",
       "      <td>13186</td>\n",
       "    </tr>\n",
       "  </tbody>\n",
       "</table>\n",
       "</div>"
      ],
      "text/plain": [
       "   SNo  PaperCode  AvgMarks  StdDev  CutOffMarksGen  CutOffMarksOBC  \\\n",
       "0    1          1     15.40   10.90            26.3            23.6   \n",
       "1    2          2     11.93   10.20            25.0            22.5   \n",
       "2    3          3     28.95   11.95            40.9            36.8   \n",
       "3    4          4     15.43    9.25            25.0            22.5   \n",
       "4    5          5     18.00   12.00            30.0            27.0   \n",
       "\n",
       "   CutOffMarksPwd  QualifiedCandidates  CandidatesAppeared  \n",
       "0            17.5                17.70                4914  \n",
       "1            16.6                13.61                2277  \n",
       "2            27.2                22.46               10857  \n",
       "3            16.6                19.06                1684  \n",
       "4            20.0                19.89               13186  "
      ]
     },
     "execution_count": 9,
     "metadata": {},
     "output_type": "execute_result"
    }
   ],
   "source": [
    "dataset.head()"
   ]
  },
  {
   "cell_type": "markdown",
   "metadata": {},
   "source": [
    "Cool! The dataset is processed and we are good to proceed with applying the algorithms."
   ]
  },
  {
   "cell_type": "code",
   "execution_count": 10,
   "metadata": {
    "scrolled": false
   },
   "outputs": [
    {
     "name": "stdout",
     "output_type": "stream",
     "text": [
      "Visualize the available datapoints using scatter plot\n"
     ]
    },
    {
     "data": {
      "image/png": "[encoded data removed]",
      "text/plain": [
       "<Figure size 432x288 with 1 Axes>"
      ]
     },
     "metadata": {
      "needs_background": "light"
     },
     "output_type": "display_data"
    }
   ],
   "source": [
    "print('Visualize the available datapoints using scatter plot')\n",
    "X = dataset[[\"AvgMarks\",\"PaperCode\"]]\n",
    "#Visualise data points\n",
    "plt.scatter(X[\"AvgMarks\"],X[\"PaperCode\"],c='blue')\n",
    "plt.xlabel('Average Marks')\n",
    "plt.ylabel('Paper Code')\n",
    "plt.yticks(range(1,19))\n",
    "plt.show()"
   ]
  },
  {
   "cell_type": "markdown",
   "metadata": {},
   "source": [
    "## K-Means Algorithm."
   ]
  },
  {
   "cell_type": "markdown",
   "metadata": {},
   "source": [
    "In K-Means, we need to specify the optimum number of clusters which can be found by the algorithm. A reliable way of doing it is by plotting Elbow Graph.\n",
    "Let's try to see what is the Within-Cluster-Sum-of-Squares(WCSS) for different clusters which can exists in the dataset."
   ]
  },
  {
   "cell_type": "code",
   "execution_count": 11,
   "metadata": {},
   "outputs": [
    {
     "data": {
      "image/png": "[encoded data removed]",
      "text/plain": [
       "<Figure size 432x288 with 1 Axes>"
      ]
     },
     "metadata": {
      "needs_background": "light"
     },
     "output_type": "display_data"
    }
   ],
   "source": [
    "wcss = []\n",
    "for i in range(1, 6):\n",
    "    kmeans = KMeans(n_clusters=i, init='k-means++', max_iter=300, n_init=10, random_state=0)\n",
    "    kmeans.fit(X)\n",
    "    wcss.append(kmeans.inertia_)\n",
    "plt.plot(range(1, 6), wcss)\n",
    "plt.title('Elbow Method')\n",
    "plt.xlabel('Number of clusters')\n",
    "plt.ylabel('WCSS')\n",
    "plt.show()"
   ]
  },
  {
   "cell_type": "markdown",
   "metadata": {},
   "source": [
    "We are seeing steep decline in WCSS for 2 to 3, so it seems that 3 could be best possible number of clusters available in the dataset."
   ]
  },
  {
   "cell_type": "code",
   "execution_count": 12,
   "metadata": {
    "scrolled": true
   },
   "outputs": [
    {
     "name": "stdout",
     "output_type": "stream",
     "text": [
      "Cluster Centers for 2 clusters - [[23.16       13.        ]\n",
      " [15.48333333  6.        ]]\n"
     ]
    },
    {
     "data": {
      "image/png": "[encoded data removed]",
      "text/plain": [
       "<Figure size 432x288 with 1 Axes>"
      ]
     },
     "metadata": {
      "needs_background": "light"
     },
     "output_type": "display_data"
    },
    {
     "name": "stdout",
     "output_type": "stream",
     "text": [
      "Cluster Centers for 3 clusters - [[18.5        15.5       ]\n",
      " [15.26125     5.375     ]\n",
      " [25.28333333 11.        ]]\n"
     ]
    },
    {
     "data": {
      "image/png": "[encoded data removed]",
      "text/plain": [
       "<Figure size 432x288 with 1 Axes>"
      ]
     },
     "metadata": {
      "needs_background": "light"
     },
     "output_type": "display_data"
    },
    {
     "name": "stdout",
     "output_type": "stream",
     "text": [
      "Cluster Centers for 4 clusters - [[18.5     15.5    ]\n",
      " [15.26125  5.375  ]\n",
      " [24.55    12.6    ]\n",
      " [28.95     3.     ]]\n"
     ]
    },
    {
     "data": {
      "image/png": "[encoded data removed]",
      "text/plain": [
       "<Figure size 432x288 with 1 Axes>"
      ]
     },
     "metadata": {
      "needs_background": "light"
     },
     "output_type": "display_data"
    }
   ],
   "source": [
    "for cluster in range(2,5):\n",
    "    kmeans = KMeans(n_clusters=cluster, init='k-means++', random_state=0)\n",
    "    pred_y = kmeans.fit_predict(X)\n",
    "    print(f'Cluster Centers for {cluster} clusters - {kmeans.cluster_centers_}')\n",
    "    plt.scatter(X[\"AvgMarks\"],X[\"PaperCode\"],c='blue')\n",
    "    plt.scatter(kmeans.cluster_centers_[:, 0], kmeans.cluster_centers_[:, 1], s=300, c='green')\n",
    "    plt.yticks(range(1,19))\n",
    "    plt.show()"
   ]
  },
  {
   "cell_type": "markdown",
   "metadata": {},
   "source": [
    "## Hierarchial Clustering Algorithm."
   ]
  },
  {
   "cell_type": "markdown",
   "metadata": {},
   "source": [
    "In case of hierarchial clustering, we can use Dendogram to find the optimum number of clusters."
   ]
  },
  {
   "cell_type": "code",
   "execution_count": 13,
   "metadata": {},
   "outputs": [
    {
     "data": {
      "image/png": "[encoded data removed]",
      "text/plain": [
       "<Figure size 432x288 with 1 Axes>"
      ]
     },
     "metadata": {
      "needs_background": "light"
     },
     "output_type": "display_data"
    }
   ],
   "source": [
    "Y = X[['PaperCode','AvgMarks']]\n",
    "\n",
    "dendrogram = sch.dendrogram(sch.linkage(X, method  = \"complete\"))\n",
    "plt.title('Dendrogram')\n",
    "plt.xlabel('Customers')\n",
    "plt.ylabel('Euclidean distances')\n",
    "plt.show()"
   ]
  },
  {
   "cell_type": "code",
   "execution_count": 14,
   "metadata": {},
   "outputs": [],
   "source": [
    "hierarchial_clustering = AgglomerativeClustering(n_clusters = 3, affinity = 'euclidean', linkage ='ward')\n",
    "clusters=hierarchial_clustering.fit_predict(Y[['PaperCode','AvgMarks']])"
   ]
  },
  {
   "cell_type": "code",
   "execution_count": 15,
   "metadata": {},
   "outputs": [],
   "source": [
    "Y['Cluster'] = clusters"
   ]
  },
  {
   "cell_type": "code",
   "execution_count": 16,
   "metadata": {},
   "outputs": [
    {
     "data": {
      "text/html": [
       "<div>\n",
       "<style scoped>\n",
       "    .dataframe tbody tr th:only-of-type {\n",
       "        vertical-align: middle;\n",
       "    }\n",
       "\n",
       "    .dataframe tbody tr th {\n",
       "        vertical-align: top;\n",
       "    }\n",
       "\n",
       "    .dataframe thead th {\n",
       "        text-align: right;\n",
       "    }\n",
       "</style>\n",
       "<table border=\"1\" class=\"dataframe\">\n",
       "  <thead>\n",
       "    <tr style=\"text-align: right;\">\n",
       "      <th></th>\n",
       "      <th>PaperCode</th>\n",
       "      <th>AvgMarks</th>\n",
       "      <th>Cluster</th>\n",
       "    </tr>\n",
       "  </thead>\n",
       "  <tbody>\n",
       "    <tr>\n",
       "      <th>0</th>\n",
       "      <td>1</td>\n",
       "      <td>15.40</td>\n",
       "      <td>1</td>\n",
       "    </tr>\n",
       "    <tr>\n",
       "      <th>1</th>\n",
       "      <td>2</td>\n",
       "      <td>11.93</td>\n",
       "      <td>1</td>\n",
       "    </tr>\n",
       "    <tr>\n",
       "      <th>2</th>\n",
       "      <td>3</td>\n",
       "      <td>28.95</td>\n",
       "      <td>2</td>\n",
       "    </tr>\n",
       "    <tr>\n",
       "      <th>3</th>\n",
       "      <td>4</td>\n",
       "      <td>15.43</td>\n",
       "      <td>1</td>\n",
       "    </tr>\n",
       "    <tr>\n",
       "      <th>4</th>\n",
       "      <td>5</td>\n",
       "      <td>18.00</td>\n",
       "      <td>1</td>\n",
       "    </tr>\n",
       "    <tr>\n",
       "      <th>5</th>\n",
       "      <td>6</td>\n",
       "      <td>15.30</td>\n",
       "      <td>1</td>\n",
       "    </tr>\n",
       "    <tr>\n",
       "      <th>6</th>\n",
       "      <td>7</td>\n",
       "      <td>19.40</td>\n",
       "      <td>1</td>\n",
       "    </tr>\n",
       "    <tr>\n",
       "      <th>7</th>\n",
       "      <td>8</td>\n",
       "      <td>14.00</td>\n",
       "      <td>1</td>\n",
       "    </tr>\n",
       "    <tr>\n",
       "      <th>8</th>\n",
       "      <td>9</td>\n",
       "      <td>20.90</td>\n",
       "      <td>1</td>\n",
       "    </tr>\n",
       "    <tr>\n",
       "      <th>9</th>\n",
       "      <td>10</td>\n",
       "      <td>12.63</td>\n",
       "      <td>1</td>\n",
       "    </tr>\n",
       "    <tr>\n",
       "      <th>10</th>\n",
       "      <td>11</td>\n",
       "      <td>17.26</td>\n",
       "      <td>1</td>\n",
       "    </tr>\n",
       "    <tr>\n",
       "      <th>11</th>\n",
       "      <td>12</td>\n",
       "      <td>23.90</td>\n",
       "      <td>0</td>\n",
       "    </tr>\n",
       "    <tr>\n",
       "      <th>12</th>\n",
       "      <td>13</td>\n",
       "      <td>23.50</td>\n",
       "      <td>0</td>\n",
       "    </tr>\n",
       "    <tr>\n",
       "      <th>13</th>\n",
       "      <td>14</td>\n",
       "      <td>25.60</td>\n",
       "      <td>0</td>\n",
       "    </tr>\n",
       "    <tr>\n",
       "      <th>14</th>\n",
       "      <td>15</td>\n",
       "      <td>28.85</td>\n",
       "      <td>0</td>\n",
       "    </tr>\n",
       "    <tr>\n",
       "      <th>15</th>\n",
       "      <td>16</td>\n",
       "      <td>20.94</td>\n",
       "      <td>0</td>\n",
       "    </tr>\n",
       "    <tr>\n",
       "      <th>16</th>\n",
       "      <td>17</td>\n",
       "      <td>19.20</td>\n",
       "      <td>0</td>\n",
       "    </tr>\n",
       "    <tr>\n",
       "      <th>17</th>\n",
       "      <td>18</td>\n",
       "      <td>16.60</td>\n",
       "      <td>0</td>\n",
       "    </tr>\n",
       "  </tbody>\n",
       "</table>\n",
       "</div>"
      ],
      "text/plain": [
       "    PaperCode  AvgMarks  Cluster\n",
       "0           1     15.40        1\n",
       "1           2     11.93        1\n",
       "2           3     28.95        2\n",
       "3           4     15.43        1\n",
       "4           5     18.00        1\n",
       "5           6     15.30        1\n",
       "6           7     19.40        1\n",
       "7           8     14.00        1\n",
       "8           9     20.90        1\n",
       "9          10     12.63        1\n",
       "10         11     17.26        1\n",
       "11         12     23.90        0\n",
       "12         13     23.50        0\n",
       "13         14     25.60        0\n",
       "14         15     28.85        0\n",
       "15         16     20.94        0\n",
       "16         17     19.20        0\n",
       "17         18     16.60        0"
      ]
     },
     "execution_count": 16,
     "metadata": {},
     "output_type": "execute_result"
    }
   ],
   "source": [
    "Y"
   ]
  },
  {
   "cell_type": "code",
   "execution_count": 17,
   "metadata": {},
   "outputs": [],
   "source": [
    "Y.columns = [0,1,2]"
   ]
  },
  {
   "cell_type": "code",
   "execution_count": 18,
   "metadata": {},
   "outputs": [
    {
     "data": {
      "image/png": "[encoded data removed]",
      "text/plain": [
       "<Figure size 432x288 with 1 Axes>"
      ]
     },
     "metadata": {
      "needs_background": "light"
     },
     "output_type": "display_data"
    }
   ],
   "source": [
    "plt.scatter(Y[clusters==0][1], Y[clusters==0][0], s=100, c='red', label ='Cluster 1')\n",
    "plt.scatter(Y[clusters==1][1], Y[clusters==1][0], s=100, c='blue', label ='Cluster 2')\n",
    "plt.scatter(Y[clusters==2][1], Y[clusters==2][0], s=100, c='green', label ='Cluster 3')\n",
    "plt.title('Clusters of Customers (Hierarchical Clustering Model)')\n",
    "plt.xlabel('Average Score')\n",
    "plt.ylabel('Paper Code')\n",
    "plt.yticks(range(1,19))\n",
    "plt.show()"
   ]
  }
 ],
 "metadata": {
  "kernelspec": {
   "display_name": "Python 3",
   "language": "python",
   "name": "python3"
  },
  "language_info": {
   "codemirror_mode": {
    "name": "ipython",
    "version": 3
   },
   "file_extension": ".py",
   "mimetype": "text/x-python",
   "name": "python",
   "nbconvert_exporter": "python",
   "pygments_lexer": "ipython3",
   "version": "3.8.5"
  }
 },
 "nbformat": 4,
 "nbformat_minor": 4
}
