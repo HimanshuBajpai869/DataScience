{
 "cells": [
  {
   "cell_type": "code",
   "execution_count": 1,
   "metadata": {},
   "outputs": [],
   "source": [
    "sentence_one = \"I am a cow\"\n",
    "sentence_two = \"Cow is what I am\"\n",
    "sentence_three = \"Today is Tuesday\""
   ]
  },
  {
   "cell_type": "markdown",
   "metadata": {},
   "source": [
    "### Get unique words from all three sentences"
   ]
  },
  {
   "cell_type": "code",
   "execution_count": 2,
   "metadata": {},
   "outputs": [],
   "source": [
    "tokens = []\n",
    "for word in sentence_one.lower().split():\n",
    "    if word not in tokens:\n",
    "        tokens.append(word)\n",
    "        \n",
    "for word in sentence_two.lower().split():\n",
    "    if word not in tokens:\n",
    "        tokens.append(word)\n",
    "\n",
    "for word in sentence_three.lower().split():\n",
    "    if word not in tokens:\n",
    "        tokens.append(word)"
   ]
  },
  {
   "cell_type": "code",
   "execution_count": 3,
   "metadata": {},
   "outputs": [
    {
     "data": {
      "text/plain": [
       "['i', 'am', 'a', 'cow', 'is', 'what', 'today', 'tuesday']"
      ]
     },
     "execution_count": 3,
     "metadata": {},
     "output_type": "execute_result"
    }
   ],
   "source": [
    "tokens"
   ]
  },
  {
   "cell_type": "markdown",
   "metadata": {},
   "source": [
    "### Generate vector representations for all three sentences"
   ]
  },
  {
   "cell_type": "code",
   "execution_count": 4,
   "metadata": {},
   "outputs": [],
   "source": [
    "vector_one = []\n",
    "for token in tokens:\n",
    "    if token in sentence_one.lower().split():\n",
    "            vector_one.append(1)\n",
    "    else:\n",
    "            vector_one.append(0)"
   ]
  },
  {
   "cell_type": "code",
   "execution_count": 5,
   "metadata": {},
   "outputs": [
    {
     "data": {
      "text/plain": [
       "[1, 1, 1, 1, 0, 0, 0, 0]"
      ]
     },
     "execution_count": 5,
     "metadata": {},
     "output_type": "execute_result"
    }
   ],
   "source": [
    "vector_one"
   ]
  },
  {
   "cell_type": "code",
   "execution_count": 6,
   "metadata": {},
   "outputs": [],
   "source": [
    "vector_two = []\n",
    "for token in tokens:\n",
    "    if token in sentence_two.lower().split():\n",
    "            vector_two.append(1)\n",
    "    else:\n",
    "            vector_two.append(0)"
   ]
  },
  {
   "cell_type": "code",
   "execution_count": 7,
   "metadata": {},
   "outputs": [
    {
     "data": {
      "text/plain": [
       "[1, 1, 0, 1, 1, 1, 0, 0]"
      ]
     },
     "execution_count": 7,
     "metadata": {},
     "output_type": "execute_result"
    }
   ],
   "source": [
    "vector_two"
   ]
  },
  {
   "cell_type": "code",
   "execution_count": 8,
   "metadata": {},
   "outputs": [],
   "source": [
    "vector_three = []\n",
    "for token in tokens:\n",
    "    if token in sentence_three.lower().split():\n",
    "            vector_three.append(1)\n",
    "    else:\n",
    "            vector_three.append(0)"
   ]
  },
  {
   "cell_type": "code",
   "execution_count": 9,
   "metadata": {},
   "outputs": [
    {
     "data": {
      "text/plain": [
       "[0, 0, 0, 0, 1, 0, 1, 1]"
      ]
     },
     "execution_count": 9,
     "metadata": {},
     "output_type": "execute_result"
    }
   ],
   "source": [
    "vector_three"
   ]
  },
  {
   "cell_type": "markdown",
   "metadata": {},
   "source": [
    "### Generate tabular data for analysis"
   ]
  },
  {
   "cell_type": "code",
   "execution_count": 10,
   "metadata": {},
   "outputs": [],
   "source": [
    "import pandas as pd"
   ]
  },
  {
   "cell_type": "code",
   "execution_count": 11,
   "metadata": {},
   "outputs": [],
   "source": [
    "dataFrame = pd.DataFrame(columns=['words','sentence_one', 'sentence_two','sentence_three'])"
   ]
  },
  {
   "cell_type": "code",
   "execution_count": 12,
   "metadata": {},
   "outputs": [],
   "source": [
    "dataFrame['words'] = tokens\n",
    "dataFrame['sentence_one'] = vector_one\n",
    "dataFrame['sentence_two'] = vector_two\n",
    "dataFrame['sentence_three'] = vector_three"
   ]
  },
  {
   "cell_type": "code",
   "execution_count": 13,
   "metadata": {},
   "outputs": [
    {
     "name": "stdout",
     "output_type": "stream",
     "text": [
      "I am a cow\n",
      "Cow is what I am\n",
      "Today is Tuesday\n"
     ]
    },
    {
     "data": {
      "text/html": [
       "<div>\n",
       "<style scoped>\n",
       "    .dataframe tbody tr th:only-of-type {\n",
       "        vertical-align: middle;\n",
       "    }\n",
       "\n",
       "    .dataframe tbody tr th {\n",
       "        vertical-align: top;\n",
       "    }\n",
       "\n",
       "    .dataframe thead th {\n",
       "        text-align: right;\n",
       "    }\n",
       "</style>\n",
       "<table border=\"1\" class=\"dataframe\">\n",
       "  <thead>\n",
       "    <tr style=\"text-align: right;\">\n",
       "      <th></th>\n",
       "      <th>words</th>\n",
       "      <th>sentence_one</th>\n",
       "      <th>sentence_two</th>\n",
       "      <th>sentence_three</th>\n",
       "    </tr>\n",
       "  </thead>\n",
       "  <tbody>\n",
       "    <tr>\n",
       "      <th>0</th>\n",
       "      <td>i</td>\n",
       "      <td>1</td>\n",
       "      <td>1</td>\n",
       "      <td>0</td>\n",
       "    </tr>\n",
       "    <tr>\n",
       "      <th>1</th>\n",
       "      <td>am</td>\n",
       "      <td>1</td>\n",
       "      <td>1</td>\n",
       "      <td>0</td>\n",
       "    </tr>\n",
       "    <tr>\n",
       "      <th>2</th>\n",
       "      <td>a</td>\n",
       "      <td>1</td>\n",
       "      <td>0</td>\n",
       "      <td>0</td>\n",
       "    </tr>\n",
       "    <tr>\n",
       "      <th>3</th>\n",
       "      <td>cow</td>\n",
       "      <td>1</td>\n",
       "      <td>1</td>\n",
       "      <td>0</td>\n",
       "    </tr>\n",
       "    <tr>\n",
       "      <th>4</th>\n",
       "      <td>is</td>\n",
       "      <td>0</td>\n",
       "      <td>1</td>\n",
       "      <td>1</td>\n",
       "    </tr>\n",
       "    <tr>\n",
       "      <th>5</th>\n",
       "      <td>what</td>\n",
       "      <td>0</td>\n",
       "      <td>1</td>\n",
       "      <td>0</td>\n",
       "    </tr>\n",
       "    <tr>\n",
       "      <th>6</th>\n",
       "      <td>today</td>\n",
       "      <td>0</td>\n",
       "      <td>0</td>\n",
       "      <td>1</td>\n",
       "    </tr>\n",
       "    <tr>\n",
       "      <th>7</th>\n",
       "      <td>tuesday</td>\n",
       "      <td>0</td>\n",
       "      <td>0</td>\n",
       "      <td>1</td>\n",
       "    </tr>\n",
       "  </tbody>\n",
       "</table>\n",
       "</div>"
      ],
      "text/plain": [
       "     words  sentence_one  sentence_two  sentence_three\n",
       "0        i             1             1               0\n",
       "1       am             1             1               0\n",
       "2        a             1             0               0\n",
       "3      cow             1             1               0\n",
       "4       is             0             1               1\n",
       "5     what             0             1               0\n",
       "6    today             0             0               1\n",
       "7  tuesday             0             0               1"
      ]
     },
     "execution_count": 13,
     "metadata": {},
     "output_type": "execute_result"
    }
   ],
   "source": [
    "print(sentence_one + '\\n' + sentence_two + '\\n' + sentence_three)\n",
    "dataFrame"
   ]
  },
  {
   "cell_type": "markdown",
   "metadata": {},
   "source": [
    "### Observations and Analysis"
   ]
  },
  {
   "cell_type": "markdown",
   "metadata": {},
   "source": [
    "## Which of the sentences contain cow but not tuesday?"
   ]
  },
  {
   "cell_type": "code",
   "execution_count": 14,
   "metadata": {},
   "outputs": [
    {
     "name": "stdout",
     "output_type": "stream",
     "text": [
      "Vector for cow : [1, 1, 0]\n"
     ]
    }
   ],
   "source": [
    "cow_vector = [1,1,0]\n",
    "print(f'Vector for cow : {cow_vector}')"
   ]
  },
  {
   "cell_type": "code",
   "execution_count": 15,
   "metadata": {},
   "outputs": [
    {
     "name": "stdout",
     "output_type": "stream",
     "text": [
      "Vector for tuesday : [0, 0, 1]\n"
     ]
    }
   ],
   "source": [
    "tuesday_vector = [0,0,1]\n",
    "print(f'Vector for tuesday : {tuesday_vector}')"
   ]
  },
  {
   "cell_type": "code",
   "execution_count": 16,
   "metadata": {},
   "outputs": [],
   "source": [
    "not_tuesday_vector = [1,1,0]"
   ]
  },
  {
   "cell_type": "code",
   "execution_count": 17,
   "metadata": {},
   "outputs": [
    {
     "name": "stdout",
     "output_type": "stream",
     "text": [
      "Final vector post BITWISE AND operator : [1, 1, 0]\n"
     ]
    }
   ],
   "source": [
    "result_vector = []\n",
    "for i in range(len(cow_vector)):\n",
    "    # For 1 & 1\n",
    "    if (cow_vector[i] == 1 and not_tuesday_vector[i] == 1):\n",
    "        result_vector.append(1)\n",
    "    # For 1 & 0 or 0 & 1\n",
    "    elif (cow_vector[i] == 1 and not_tuesday_vector[i] == 0) or (cow_vector[i] == 0 and not_tuesday_vector[1] == 1):\n",
    "        result_vector.append(0)\n",
    "    else:\n",
    "        result_vector.append(0)\n",
    "print(f'Final vector post BITWISE AND operator : {result_vector}')"
   ]
  },
  {
   "cell_type": "markdown",
   "metadata": {},
   "source": [
    "##### Hence, we conclude that, sentence one and sentence two contain the term 'cow' but not 'tuesday'"
   ]
  },
  {
   "cell_type": "markdown",
   "metadata": {},
   "source": [
    "## Are there any other observations which can be made?"
   ]
  },
  {
   "cell_type": "code",
   "execution_count": 18,
   "metadata": {},
   "outputs": [],
   "source": [
    "import numpy as np"
   ]
  },
  {
   "cell_type": "code",
   "execution_count": 19,
   "metadata": {},
   "outputs": [
    {
     "name": "stdout",
     "output_type": "stream",
     "text": [
      "Dot Product of sentence one and two is -> 3\n"
     ]
    }
   ],
   "source": [
    "print(f'Dot Product of sentence one and two is -> {np.dot(vector_one, vector_two)}')"
   ]
  },
  {
   "cell_type": "code",
   "execution_count": 20,
   "metadata": {},
   "outputs": [
    {
     "name": "stdout",
     "output_type": "stream",
     "text": [
      "Dot Product of sentence one and three is -> 0\n"
     ]
    }
   ],
   "source": [
    "print(f'Dot Product of sentence one and three is -> {np.dot(vector_one, vector_three)}')"
   ]
  },
  {
   "cell_type": "code",
   "execution_count": 21,
   "metadata": {},
   "outputs": [
    {
     "name": "stdout",
     "output_type": "stream",
     "text": [
      "Dot Product of sentence two and three is -> 1\n"
     ]
    }
   ],
   "source": [
    "print(f'Dot Product of sentence two and three is -> {np.dot(vector_two, vector_three)}')"
   ]
  },
  {
   "cell_type": "markdown",
   "metadata": {},
   "source": [
    "##### Hence, we conclude that, sentence one and sentence two are quite similar to each other."
   ]
  },
  {
   "cell_type": "markdown",
   "metadata": {},
   "source": [
    "## Inverted Index "
   ]
  },
  {
   "cell_type": "code",
   "execution_count": 22,
   "metadata": {},
   "outputs": [],
   "source": [
    "sorted_tokens = sorted(tokens)"
   ]
  },
  {
   "cell_type": "code",
   "execution_count": 23,
   "metadata": {},
   "outputs": [
    {
     "data": {
      "text/plain": [
       "['a', 'am', 'cow', 'i', 'is', 'today', 'tuesday', 'what']"
      ]
     },
     "execution_count": 23,
     "metadata": {},
     "output_type": "execute_result"
    }
   ],
   "source": [
    "sorted_tokens"
   ]
  },
  {
   "cell_type": "code",
   "execution_count": 24,
   "metadata": {},
   "outputs": [],
   "source": [
    "token_frequency = []\n",
    "for token in sorted_tokens:\n",
    "    token_frq = 0\n",
    "    for word in sentence_one.lower().split():\n",
    "        if word == token:\n",
    "            token_frq += 1\n",
    "    for word in sentence_two.lower().split():\n",
    "        if word == token:\n",
    "            token_frq += 1\n",
    "    for word in sentence_three.lower().split():\n",
    "        if word == token:\n",
    "            token_frq += 1\n",
    "    token_frequency.append(token_frq)\n",
    "            "
   ]
  },
  {
   "cell_type": "code",
   "execution_count": 25,
   "metadata": {},
   "outputs": [
    {
     "data": {
      "text/plain": [
       "[1, 2, 2, 2, 2, 1, 1, 1]"
      ]
     },
     "execution_count": 25,
     "metadata": {},
     "output_type": "execute_result"
    }
   ],
   "source": [
    "token_frequency"
   ]
  },
  {
   "cell_type": "code",
   "execution_count": 26,
   "metadata": {},
   "outputs": [],
   "source": [
    "posting_list = []\n",
    "for token in sorted_tokens:\n",
    "    p_list = \"\"\n",
    "    for word in sentence_one.lower().split():\n",
    "        if word == token and  \"1 -->\" not in p_list:\n",
    "            p_list += \"1 -->\"\n",
    "    for word in sentence_two.lower().split():\n",
    "        if word == token and  \"2 -->\" not in p_list:\n",
    "            p_list += \"2 -->\"\n",
    "    for word in sentence_three.lower().split():\n",
    "        if word == token and  \"3 -->\" not in p_list:\n",
    "            p_list += \"3 -->\"\n",
    "    posting_list.append(p_list)            "
   ]
  },
  {
   "cell_type": "code",
   "execution_count": 27,
   "metadata": {},
   "outputs": [
    {
     "data": {
      "text/plain": [
       "['1 -->',\n",
       " '1 -->2 -->',\n",
       " '1 -->2 -->',\n",
       " '1 -->2 -->',\n",
       " '2 -->3 -->',\n",
       " '3 -->',\n",
       " '3 -->',\n",
       " '2 -->']"
      ]
     },
     "execution_count": 27,
     "metadata": {},
     "output_type": "execute_result"
    }
   ],
   "source": [
    "posting_list"
   ]
  },
  {
   "cell_type": "code",
   "execution_count": 28,
   "metadata": {},
   "outputs": [],
   "source": [
    "posting_list_df = pd.DataFrame(columns = ['words','term_frequency','posting_list'])"
   ]
  },
  {
   "cell_type": "code",
   "execution_count": 29,
   "metadata": {},
   "outputs": [],
   "source": [
    "posting_list_df['words'] = sorted_tokens\n",
    "posting_list_df['term_frequency'] = token_frequency\n",
    "posting_list_df['posting_list'] = posting_list"
   ]
  },
  {
   "cell_type": "code",
   "execution_count": 30,
   "metadata": {},
   "outputs": [
    {
     "name": "stdout",
     "output_type": "stream",
     "text": [
      "I am a cow\n",
      "Cow is what I am\n",
      "Today is Tuesday\n"
     ]
    },
    {
     "data": {
      "text/html": [
       "<div>\n",
       "<style scoped>\n",
       "    .dataframe tbody tr th:only-of-type {\n",
       "        vertical-align: middle;\n",
       "    }\n",
       "\n",
       "    .dataframe tbody tr th {\n",
       "        vertical-align: top;\n",
       "    }\n",
       "\n",
       "    .dataframe thead th {\n",
       "        text-align: right;\n",
       "    }\n",
       "</style>\n",
       "<table border=\"1\" class=\"dataframe\">\n",
       "  <thead>\n",
       "    <tr style=\"text-align: right;\">\n",
       "      <th></th>\n",
       "      <th>words</th>\n",
       "      <th>term_frequency</th>\n",
       "      <th>posting_list</th>\n",
       "    </tr>\n",
       "  </thead>\n",
       "  <tbody>\n",
       "    <tr>\n",
       "      <th>0</th>\n",
       "      <td>a</td>\n",
       "      <td>1</td>\n",
       "      <td>1 --&gt;</td>\n",
       "    </tr>\n",
       "    <tr>\n",
       "      <th>1</th>\n",
       "      <td>am</td>\n",
       "      <td>2</td>\n",
       "      <td>1 --&gt;2 --&gt;</td>\n",
       "    </tr>\n",
       "    <tr>\n",
       "      <th>2</th>\n",
       "      <td>cow</td>\n",
       "      <td>2</td>\n",
       "      <td>1 --&gt;2 --&gt;</td>\n",
       "    </tr>\n",
       "    <tr>\n",
       "      <th>3</th>\n",
       "      <td>i</td>\n",
       "      <td>2</td>\n",
       "      <td>1 --&gt;2 --&gt;</td>\n",
       "    </tr>\n",
       "    <tr>\n",
       "      <th>4</th>\n",
       "      <td>is</td>\n",
       "      <td>2</td>\n",
       "      <td>2 --&gt;3 --&gt;</td>\n",
       "    </tr>\n",
       "    <tr>\n",
       "      <th>5</th>\n",
       "      <td>today</td>\n",
       "      <td>1</td>\n",
       "      <td>3 --&gt;</td>\n",
       "    </tr>\n",
       "    <tr>\n",
       "      <th>6</th>\n",
       "      <td>tuesday</td>\n",
       "      <td>1</td>\n",
       "      <td>3 --&gt;</td>\n",
       "    </tr>\n",
       "    <tr>\n",
       "      <th>7</th>\n",
       "      <td>what</td>\n",
       "      <td>1</td>\n",
       "      <td>2 --&gt;</td>\n",
       "    </tr>\n",
       "  </tbody>\n",
       "</table>\n",
       "</div>"
      ],
      "text/plain": [
       "     words  term_frequency posting_list\n",
       "0        a               1        1 -->\n",
       "1       am               2   1 -->2 -->\n",
       "2      cow               2   1 -->2 -->\n",
       "3        i               2   1 -->2 -->\n",
       "4       is               2   2 -->3 -->\n",
       "5    today               1        3 -->\n",
       "6  tuesday               1        3 -->\n",
       "7     what               1        2 -->"
      ]
     },
     "execution_count": 30,
     "metadata": {},
     "output_type": "execute_result"
    }
   ],
   "source": [
    "print(sentence_one + '\\n' + sentence_two + '\\n' + sentence_three)\n",
    "posting_list_df"
   ]
  },
  {
   "cell_type": "code",
   "execution_count": 31,
   "metadata": {},
   "outputs": [
    {
     "name": "stdout",
     "output_type": "stream",
     "text": [
      "Enter the search string : what cow\n"
     ]
    }
   ],
   "source": [
    "input_search = input(\"Enter the search string : \")"
   ]
  },
  {
   "cell_type": "code",
   "execution_count": 32,
   "metadata": {},
   "outputs": [
    {
     "data": {
      "text/plain": [
       "'what cow'"
      ]
     },
     "execution_count": 32,
     "metadata": {},
     "output_type": "execute_result"
    }
   ],
   "source": [
    "input_search"
   ]
  },
  {
   "cell_type": "code",
   "execution_count": 33,
   "metadata": {},
   "outputs": [],
   "source": [
    "filter_from_posting_list = []\n",
    "for token in input_search.split():\n",
    "    filter_from_posting_list.append(posting_list_df[posting_list_df.words == token]['posting_list'].item())"
   ]
  },
  {
   "cell_type": "code",
   "execution_count": 34,
   "metadata": {},
   "outputs": [
    {
     "data": {
      "text/plain": [
       "['2 -->', '1 -->2 -->']"
      ]
     },
     "execution_count": 34,
     "metadata": {},
     "output_type": "execute_result"
    }
   ],
   "source": [
    "filter_from_posting_list"
   ]
  },
  {
   "cell_type": "code",
   "execution_count": 35,
   "metadata": {},
   "outputs": [
    {
     "name": "stderr",
     "output_type": "stream",
     "text": [
      "<>:4: SyntaxWarning: \"is not\" with a literal. Did you mean \"!=\"?\n",
      "<>:4: SyntaxWarning: \"is not\" with a literal. Did you mean \"!=\"?\n",
      "<ipython-input-35-83743346e928>:4: SyntaxWarning: \"is not\" with a literal. Did you mean \"!=\"?\n",
      "  if y is not '':\n"
     ]
    }
   ],
   "source": [
    "searched_list = []\n",
    "for x in filter_from_posting_list:\n",
    "    for y in x.split(' -->'):\n",
    "        if y is not '':\n",
    "            searched_list.append(y)"
   ]
  },
  {
   "cell_type": "code",
   "execution_count": 36,
   "metadata": {},
   "outputs": [
    {
     "name": "stdout",
     "output_type": "stream",
     "text": [
      "Documents which are retrived based on the input strings are - {'1', '2'}\n"
     ]
    }
   ],
   "source": [
    "print(f'Documents which are retrived based on the input strings are - {set(sorted(searched_list))}')"
   ]
  }
 ],
 "metadata": {
  "kernelspec": {
   "display_name": "Python 3",
   "language": "python",
   "name": "python3"
  },
  "language_info": {
   "codemirror_mode": {
    "name": "ipython",
    "version": 3
   },
   "file_extension": ".py",
   "mimetype": "text/x-python",
   "name": "python",
   "nbconvert_exporter": "python",
   "pygments_lexer": "ipython3",
   "version": "3.8.5"
  }
 },
 "nbformat": 4,
 "nbformat_minor": 4
}
