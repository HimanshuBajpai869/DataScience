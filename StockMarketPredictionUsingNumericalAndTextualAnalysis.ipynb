{
 "cells": [
  {
   "cell_type": "markdown",
   "metadata": {},
   "source": [
    "## Stock Market Prediction using Numerical and Textual Analysis\n",
    "\n",
    "#### Objective: Create a hybrid model for stock price/performance prediction using numerical analysis of historical stock prices, and sentimental analysis of news headlines."
   ]
  },
  {
   "cell_type": "code",
   "execution_count": 54,
   "metadata": {
    "scrolled": true
   },
   "outputs": [
    {
     "name": "stdout",
     "output_type": "stream",
     "text": [
      "Imported the libraries successfully.\n"
     ]
    },
    {
     "name": "stderr",
     "output_type": "stream",
     "text": [
      "[nltk_data] Downloading package vader_lexicon to\n",
      "[nltk_data]     C:\\Users\\v-hibajp\\AppData\\Roaming\\nltk_data...\n",
      "[nltk_data]   Package vader_lexicon is already up-to-date!\n"
     ]
    }
   ],
   "source": [
    "import pandas as pd\n",
    "import matplotlib.pyplot as plt\n",
    "from statsmodels.tsa.arima_model import ARIMA\n",
    "from sklearn.metrics import mean_absolute_error,mean_squared_error\n",
    "from math import sqrt\n",
    "import numpy as np\n",
    "from textblob import TextBlob\n",
    "from nltk.corpus import stopwords\n",
    "from nltk.stem.porter import PorterStemmer\n",
    "from nltk.sentiment.vader import SentimentIntensityAnalyzer\n",
    "from pmdarima import auto_arima\n",
    "import re\n",
    "import nltk\n",
    "import xgboost \n",
    "nltk.download('vader_lexicon')\n",
    "import warnings\n",
    "warnings.filterwarnings(\"ignore\")\n",
    "print('Imported the libraries successfully.')"
   ]
  },
  {
   "cell_type": "markdown",
   "metadata": {},
   "source": [
    "The datasets can be downloaded from below :\n",
    "1. News Dataset : https://bit.ly/36fFPI6\n",
    "2. Stock Dataset: https://finance.yahoo.com/"
   ]
  },
  {
   "cell_type": "code",
   "execution_count": 55,
   "metadata": {},
   "outputs": [
    {
     "name": "stdout",
     "output_type": "stream",
     "text": [
      "Imported the datasets successfully.\n"
     ]
    }
   ],
   "source": [
    "news_dataset = pd.read_csv('News.csv')\n",
    "stock_dataset = pd.read_csv('Stock.csv')\n",
    "print('Imported the datasets successfully.')"
   ]
  },
  {
   "cell_type": "markdown",
   "metadata": {},
   "source": [
    "## 1. Analyze the stock dataset."
   ]
  },
  {
   "cell_type": "code",
   "execution_count": 3,
   "metadata": {},
   "outputs": [
    {
     "data": {
      "text/plain": [
       "(251, 7)"
      ]
     },
     "execution_count": 3,
     "metadata": {},
     "output_type": "execute_result"
    }
   ],
   "source": [
    "stock_dataset.shape"
   ]
  },
  {
   "cell_type": "code",
   "execution_count": 4,
   "metadata": {},
   "outputs": [
    {
     "data": {
      "text/html": [
       "<div>\n",
       "<style scoped>\n",
       "    .dataframe tbody tr th:only-of-type {\n",
       "        vertical-align: middle;\n",
       "    }\n",
       "\n",
       "    .dataframe tbody tr th {\n",
       "        vertical-align: top;\n",
       "    }\n",
       "\n",
       "    .dataframe thead th {\n",
       "        text-align: right;\n",
       "    }\n",
       "</style>\n",
       "<table border=\"1\" class=\"dataframe\">\n",
       "  <thead>\n",
       "    <tr style=\"text-align: right;\">\n",
       "      <th></th>\n",
       "      <th>Date</th>\n",
       "      <th>Open</th>\n",
       "      <th>High</th>\n",
       "      <th>Low</th>\n",
       "      <th>Close</th>\n",
       "      <th>Adj Close</th>\n",
       "      <th>Volume</th>\n",
       "    </tr>\n",
       "  </thead>\n",
       "  <tbody>\n",
       "    <tr>\n",
       "      <th>0</th>\n",
       "      <td>2020-03-03</td>\n",
       "      <td>38480.890625</td>\n",
       "      <td>38754.238281</td>\n",
       "      <td>38142.300781</td>\n",
       "      <td>38623.699219</td>\n",
       "      <td>38623.699219</td>\n",
       "      <td>10600.0</td>\n",
       "    </tr>\n",
       "    <tr>\n",
       "      <th>1</th>\n",
       "      <td>2020-03-04</td>\n",
       "      <td>38715.718750</td>\n",
       "      <td>38791.699219</td>\n",
       "      <td>37846.101563</td>\n",
       "      <td>38409.480469</td>\n",
       "      <td>38409.480469</td>\n",
       "      <td>15300.0</td>\n",
       "    </tr>\n",
       "    <tr>\n",
       "      <th>2</th>\n",
       "      <td>2020-03-05</td>\n",
       "      <td>38604.250000</td>\n",
       "      <td>38887.800781</td>\n",
       "      <td>38386.679688</td>\n",
       "      <td>38470.609375</td>\n",
       "      <td>38470.609375</td>\n",
       "      <td>13500.0</td>\n",
       "    </tr>\n",
       "    <tr>\n",
       "      <th>3</th>\n",
       "      <td>2020-03-06</td>\n",
       "      <td>37613.960938</td>\n",
       "      <td>37747.070313</td>\n",
       "      <td>37011.089844</td>\n",
       "      <td>37576.621094</td>\n",
       "      <td>37576.621094</td>\n",
       "      <td>19000.0</td>\n",
       "    </tr>\n",
       "    <tr>\n",
       "      <th>4</th>\n",
       "      <td>2020-03-09</td>\n",
       "      <td>36950.199219</td>\n",
       "      <td>36950.199219</td>\n",
       "      <td>35109.179688</td>\n",
       "      <td>35634.949219</td>\n",
       "      <td>35634.949219</td>\n",
       "      <td>18800.0</td>\n",
       "    </tr>\n",
       "  </tbody>\n",
       "</table>\n",
       "</div>"
      ],
      "text/plain": [
       "         Date          Open          High           Low         Close  \\\n",
       "0  2020-03-03  38480.890625  38754.238281  38142.300781  38623.699219   \n",
       "1  2020-03-04  38715.718750  38791.699219  37846.101563  38409.480469   \n",
       "2  2020-03-05  38604.250000  38887.800781  38386.679688  38470.609375   \n",
       "3  2020-03-06  37613.960938  37747.070313  37011.089844  37576.621094   \n",
       "4  2020-03-09  36950.199219  36950.199219  35109.179688  35634.949219   \n",
       "\n",
       "      Adj Close   Volume  \n",
       "0  38623.699219  10600.0  \n",
       "1  38409.480469  15300.0  \n",
       "2  38470.609375  13500.0  \n",
       "3  37576.621094  19000.0  \n",
       "4  35634.949219  18800.0  "
      ]
     },
     "execution_count": 4,
     "metadata": {},
     "output_type": "execute_result"
    }
   ],
   "source": [
    "stock_dataset.head()"
   ]
  },
  {
   "cell_type": "code",
   "execution_count": 56,
   "metadata": {},
   "outputs": [
    {
     "data": {
      "text/html": [
       "<div>\n",
       "<style scoped>\n",
       "    .dataframe tbody tr th:only-of-type {\n",
       "        vertical-align: middle;\n",
       "    }\n",
       "\n",
       "    .dataframe tbody tr th {\n",
       "        vertical-align: top;\n",
       "    }\n",
       "\n",
       "    .dataframe thead th {\n",
       "        text-align: right;\n",
       "    }\n",
       "</style>\n",
       "<table border=\"1\" class=\"dataframe\">\n",
       "  <thead>\n",
       "    <tr style=\"text-align: right;\">\n",
       "      <th></th>\n",
       "      <th>Open</th>\n",
       "      <th>High</th>\n",
       "      <th>Low</th>\n",
       "      <th>Close</th>\n",
       "      <th>Adj Close</th>\n",
       "      <th>Volume</th>\n",
       "    </tr>\n",
       "  </thead>\n",
       "  <tbody>\n",
       "    <tr>\n",
       "      <th>count</th>\n",
       "      <td>249.000000</td>\n",
       "      <td>249.000000</td>\n",
       "      <td>249.000000</td>\n",
       "      <td>249.000000</td>\n",
       "      <td>249.000000</td>\n",
       "      <td>249.000000</td>\n",
       "    </tr>\n",
       "    <tr>\n",
       "      <th>mean</th>\n",
       "      <td>39460.322023</td>\n",
       "      <td>39759.285627</td>\n",
       "      <td>39040.329953</td>\n",
       "      <td>39409.401112</td>\n",
       "      <td>39409.401112</td>\n",
       "      <td>20857.831325</td>\n",
       "    </tr>\n",
       "    <tr>\n",
       "      <th>std</th>\n",
       "      <td>6570.283880</td>\n",
       "      <td>6495.135846</td>\n",
       "      <td>6636.416405</td>\n",
       "      <td>6585.713014</td>\n",
       "      <td>6585.713014</td>\n",
       "      <td>16108.779317</td>\n",
       "    </tr>\n",
       "    <tr>\n",
       "      <th>min</th>\n",
       "      <td>26499.810547</td>\n",
       "      <td>27462.869141</td>\n",
       "      <td>25638.900391</td>\n",
       "      <td>25981.240234</td>\n",
       "      <td>25981.240234</td>\n",
       "      <td>0.000000</td>\n",
       "    </tr>\n",
       "    <tr>\n",
       "      <th>25%</th>\n",
       "      <td>34335.378906</td>\n",
       "      <td>34769.480469</td>\n",
       "      <td>33958.019531</td>\n",
       "      <td>34247.050781</td>\n",
       "      <td>34247.050781</td>\n",
       "      <td>15100.000000</td>\n",
       "    </tr>\n",
       "    <tr>\n",
       "      <th>50%</th>\n",
       "      <td>38480.890625</td>\n",
       "      <td>38746.480469</td>\n",
       "      <td>38275.449219</td>\n",
       "      <td>38470.609375</td>\n",
       "      <td>38470.609375</td>\n",
       "      <td>18400.000000</td>\n",
       "    </tr>\n",
       "    <tr>\n",
       "      <th>75%</th>\n",
       "      <td>44729.519531</td>\n",
       "      <td>44825.371094</td>\n",
       "      <td>44247.121094</td>\n",
       "      <td>44632.648438</td>\n",
       "      <td>44632.648438</td>\n",
       "      <td>22300.000000</td>\n",
       "    </tr>\n",
       "    <tr>\n",
       "      <th>max</th>\n",
       "      <td>52400.031250</td>\n",
       "      <td>52516.761719</td>\n",
       "      <td>51886.460938</td>\n",
       "      <td>52154.128906</td>\n",
       "      <td>52154.128906</td>\n",
       "      <td>188300.000000</td>\n",
       "    </tr>\n",
       "  </tbody>\n",
       "</table>\n",
       "</div>"
      ],
      "text/plain": [
       "               Open          High           Low         Close     Adj Close  \\\n",
       "count    249.000000    249.000000    249.000000    249.000000    249.000000   \n",
       "mean   39460.322023  39759.285627  39040.329953  39409.401112  39409.401112   \n",
       "std     6570.283880   6495.135846   6636.416405   6585.713014   6585.713014   \n",
       "min    26499.810547  27462.869141  25638.900391  25981.240234  25981.240234   \n",
       "25%    34335.378906  34769.480469  33958.019531  34247.050781  34247.050781   \n",
       "50%    38480.890625  38746.480469  38275.449219  38470.609375  38470.609375   \n",
       "75%    44729.519531  44825.371094  44247.121094  44632.648438  44632.648438   \n",
       "max    52400.031250  52516.761719  51886.460938  52154.128906  52154.128906   \n",
       "\n",
       "              Volume  \n",
       "count     249.000000  \n",
       "mean    20857.831325  \n",
       "std     16108.779317  \n",
       "min         0.000000  \n",
       "25%     15100.000000  \n",
       "50%     18400.000000  \n",
       "75%     22300.000000  \n",
       "max    188300.000000  "
      ]
     },
     "execution_count": 56,
     "metadata": {},
     "output_type": "execute_result"
    }
   ],
   "source": [
    "stock_dataset.describe()"
   ]
  },
  {
   "cell_type": "code",
   "execution_count": 57,
   "metadata": {},
   "outputs": [],
   "source": [
    "# Drop the rows where the data is not available\n",
    "stock_dataset.dropna(inplace=True)"
   ]
  },
  {
   "cell_type": "code",
   "execution_count": 118,
   "metadata": {},
   "outputs": [
    {
     "data": {
      "text/plain": [
       "<matplotlib.legend.Legend at 0x1feb63edc10>"
      ]
     },
     "execution_count": 118,
     "metadata": {},
     "output_type": "execute_result"
    },
    {
     "data": {
      "image/png": "[encoded data removed]",
      "text/plain": [
       "<Figure size 720x432 with 1 Axes>"
      ]
     },
     "metadata": {
      "needs_background": "light"
     },
     "output_type": "display_data"
    }
   ],
   "source": [
    "#split data into train and training set\n",
    "train_data, test_data = stock_dataset[:int(len(stock_dataset)*0.9)], stock_dataset[int(len(stock_dataset)*0.9):]\n",
    "plt.figure(figsize=(10,6))\n",
    "plt.grid(True)\n",
    "plt.xlabel('Dates')\n",
    "plt.ylabel('Closing Prices')\n",
    "plt.plot(train_data['Date'],train_data['Close'], 'green', label='Train data')\n",
    "plt.plot(test_data['Date'],test_data['Close'], 'blue', label='Test data')\n",
    "plt.legend()"
   ]
  },
  {
   "cell_type": "code",
   "execution_count": 59,
   "metadata": {},
   "outputs": [
    {
     "name": "stdout",
     "output_type": "stream",
     "text": [
      "Performing stepwise search to minimize aic\n",
      " ARIMA(0,0,0)(0,0,0)[0]             : AIC=5369.103, Time=0.01 sec\n",
      " ARIMA(1,0,0)(0,0,0)[0]             : AIC=inf, Time=0.05 sec\n",
      " ARIMA(0,0,1)(0,0,0)[0]             : AIC=inf, Time=0.05 sec\n",
      " ARIMA(1,0,1)(0,0,0)[0]             : AIC=3577.343, Time=0.08 sec\n",
      " ARIMA(2,0,1)(0,0,0)[0]             : AIC=3578.576, Time=0.13 sec\n",
      " ARIMA(1,0,2)(0,0,0)[0]             : AIC=3576.433, Time=0.16 sec\n",
      " ARIMA(0,0,2)(0,0,0)[0]             : AIC=inf, Time=0.16 sec\n",
      " ARIMA(2,0,2)(0,0,0)[0]             : AIC=3577.053, Time=0.24 sec\n",
      " ARIMA(1,0,3)(0,0,0)[0]             : AIC=3581.177, Time=0.21 sec\n",
      " ARIMA(0,0,3)(0,0,0)[0]             : AIC=inf, Time=0.27 sec\n",
      " ARIMA(2,0,3)(0,0,0)[0]             : AIC=3577.508, Time=0.28 sec\n",
      " ARIMA(1,0,2)(0,0,0)[0] intercept   : AIC=3574.281, Time=0.18 sec\n",
      " ARIMA(0,0,2)(0,0,0)[0] intercept   : AIC=4060.077, Time=0.24 sec\n",
      " ARIMA(1,0,1)(0,0,0)[0] intercept   : AIC=3574.527, Time=0.25 sec\n",
      " ARIMA(2,0,2)(0,0,0)[0] intercept   : AIC=3570.422, Time=0.22 sec\n",
      " ARIMA(2,0,1)(0,0,0)[0] intercept   : AIC=3576.177, Time=0.34 sec\n",
      " ARIMA(3,0,2)(0,0,0)[0] intercept   : AIC=inf, Time=0.39 sec\n",
      " ARIMA(2,0,3)(0,0,0)[0] intercept   : AIC=3572.273, Time=0.35 sec\n",
      " ARIMA(1,0,3)(0,0,0)[0] intercept   : AIC=3574.462, Time=0.24 sec\n",
      " ARIMA(3,0,1)(0,0,0)[0] intercept   : AIC=3570.820, Time=0.18 sec\n",
      " ARIMA(3,0,3)(0,0,0)[0] intercept   : AIC=inf, Time=0.40 sec\n",
      "\n",
      "Best model:  ARIMA(2,0,2)(0,0,0)[0] intercept\n",
      "Total fit time: 4.426 seconds\n",
      "                               SARIMAX Results                                \n",
      "==============================================================================\n",
      "Dep. Variable:                      y   No. Observations:                  224\n",
      "Model:               SARIMAX(2, 0, 2)   Log Likelihood               -1779.211\n",
      "Date:                Tue, 09 Mar 2021   AIC                           3570.422\n",
      "Time:                        13:36:50   BIC                           3590.892\n",
      "Sample:                             0   HQIC                          3578.685\n",
      "                                - 224                                         \n",
      "Covariance Type:                  opg                                         \n",
      "==============================================================================\n",
      "                 coef    std err          z      P>|z|      [0.025      0.975]\n",
      "------------------------------------------------------------------------------\n",
      "intercept    143.8522     81.512      1.765      0.078     -15.909     303.613\n",
      "ar.L1          1.8052      0.110     16.346      0.000       1.589       2.022\n",
      "ar.L2         -0.8088      0.110     -7.341      0.000      -1.025      -0.593\n",
      "ma.L1         -0.9330      0.100     -9.320      0.000      -1.129      -0.737\n",
      "ma.L2          0.2139      0.046      4.689      0.000       0.124       0.303\n",
      "sigma2      4.564e+05      0.033   1.39e+07      0.000    4.56e+05    4.56e+05\n",
      "===================================================================================\n",
      "Ljung-Box (L1) (Q):                   0.02   Jarque-Bera (JB):               230.66\n",
      "Prob(Q):                              0.88   Prob(JB):                         0.00\n",
      "Heteroskedasticity (H):               0.21   Skew:                            -0.87\n",
      "Prob(H) (two-sided):                  0.00   Kurtosis:                         7.66\n",
      "===================================================================================\n",
      "\n",
      "Warnings:\n",
      "[1] Covariance matrix calculated using the outer product of gradients (complex-step).\n",
      "[2] Covariance matrix is singular or near-singular, with condition number 1.82e+22. Standard errors may be unstable.\n"
     ]
    }
   ],
   "source": [
    "model_autoARIMA = auto_arima(train_data['Close'], start_p=0, start_q=0,\n",
    "                      test='adf',       # use adftest to find             optimal 'd'\n",
    "                      max_p=3, max_q=3, # maximum p and q\n",
    "                      m=1,              # frequency of series\n",
    "                      d=None,           # let model determine 'd'\n",
    "                      seasonal=False,   # No Seasonality\n",
    "                      start_P=0, \n",
    "                      D=0, \n",
    "                      trace=True,\n",
    "                      error_action='ignore',  \n",
    "                      suppress_warnings=True, \n",
    "                      stepwise=True)\n",
    "print(model_autoARIMA.summary())"
   ]
  },
  {
   "cell_type": "code",
   "execution_count": 60,
   "metadata": {},
   "outputs": [
    {
     "name": "stdout",
     "output_type": "stream",
     "text": [
      "                             ARIMA Model Results                              \n",
      "==============================================================================\n",
      "Dep. Variable:                D.Close   No. Observations:                  223\n",
      "Model:                 ARIMA(0, 1, 1)   Log Likelihood               -1773.135\n",
      "Method:                       css-mle   S.D. of innovations            686.992\n",
      "Date:                Tue, 09 Mar 2021   AIC                           3552.270\n",
      "Time:                        13:36:52   BIC                           3562.492\n",
      "Sample:                             1   HQIC                          3556.397\n",
      "                                                                              \n",
      "=================================================================================\n",
      "                    coef    std err          z      P>|z|      [0.025      0.975]\n",
      "---------------------------------------------------------------------------------\n",
      "const            39.8699     42.023      0.949      0.343     -42.495     122.234\n",
      "ma.L1.D.Close    -0.0870      0.060     -1.453      0.146      -0.204       0.030\n",
      "                                    Roots                                    \n",
      "=============================================================================\n",
      "                  Real          Imaginary           Modulus         Frequency\n",
      "-----------------------------------------------------------------------------\n",
      "MA.1           11.4995           +0.0000j           11.4995            0.0000\n",
      "-----------------------------------------------------------------------------\n"
     ]
    }
   ],
   "source": [
    "model = ARIMA(train_data['Close'], order=(0,1,1))  \n",
    "fitted = model.fit(disp=-1)  \n",
    "print(fitted.summary())"
   ]
  },
  {
   "cell_type": "code",
   "execution_count": 120,
   "metadata": {},
   "outputs": [
    {
     "data": {
      "image/png": "[encoded data removed]",
      "text/plain": [
       "<Figure size 1200x500 with 1 Axes>"
      ]
     },
     "metadata": {
      "needs_background": "light"
     },
     "output_type": "display_data"
    }
   ],
   "source": [
    "fc, se, conf = fitted.forecast(25, alpha=0.05)  # 95% confidence\n",
    "fc_series = pd.Series(fc, index=test_data.index)\n",
    "lower_series = pd.Series(conf[:, 0], index=test_data.index)\n",
    "upper_series = pd.Series(conf[:, 1], index=test_data.index)\n",
    "plt.figure(figsize=(12,5), dpi=100)\n",
    "plt.plot(train_data['Close'], label='training')\n",
    "plt.plot(test_data['Close'], color = 'blue', label='Actual Stock Price')\n",
    "plt.plot(fc_series, color = 'orange',label='Predicted Stock Price')\n",
    "plt.fill_between(lower_series.index, lower_series, upper_series, \n",
    "                 color='k', alpha=.10)\n",
    "plt.title('BSE Sensex Stock Price Prediction')\n",
    "plt.xlabel('Time')\n",
    "plt.ylabel('Actual Stock Price')\n",
    "plt.legend(loc='upper left', fontsize=8)\n",
    "plt.show()"
   ]
  },
  {
   "cell_type": "code",
   "execution_count": 62,
   "metadata": {},
   "outputs": [
    {
     "name": "stdout",
     "output_type": "stream",
     "text": [
      "MSE: 7585198.0161292665\n",
      "MAE: 2554.9495371015046\n",
      "RMSE: 2754.123820043185\n",
      "MAPE: 0.050198663429114845\n"
     ]
    }
   ],
   "source": [
    "# report performance\n",
    "mse = mean_squared_error(test_data['Close'], fc)\n",
    "print('MSE: '+str(mse))\n",
    "mae = mean_absolute_error(test_data['Close'], fc)\n",
    "print('MAE: '+str(mae))\n",
    "rmse = sqrt(mean_squared_error(test_data['Close'], fc))\n",
    "print('RMSE: '+str(rmse))\n",
    "mape = np.mean(np.abs(fc - test_data['Close'])/np.abs(test_data['Close']))\n",
    "print('MAPE: '+str(mape))"
   ]
  },
  {
   "cell_type": "markdown",
   "metadata": {},
   "source": [
    "## 2. Analyze the News Dataset"
   ]
  },
  {
   "cell_type": "code",
   "execution_count": 69,
   "metadata": {
    "scrolled": true
   },
   "outputs": [
    {
     "data": {
      "text/html": [
       "<div>\n",
       "<style scoped>\n",
       "    .dataframe tbody tr th:only-of-type {\n",
       "        vertical-align: middle;\n",
       "    }\n",
       "\n",
       "    .dataframe tbody tr th {\n",
       "        vertical-align: top;\n",
       "    }\n",
       "\n",
       "    .dataframe thead th {\n",
       "        text-align: right;\n",
       "    }\n",
       "</style>\n",
       "<table border=\"1\" class=\"dataframe\">\n",
       "  <thead>\n",
       "    <tr style=\"text-align: right;\">\n",
       "      <th></th>\n",
       "      <th>publish_date</th>\n",
       "      <th>headline_category</th>\n",
       "      <th>headline_text</th>\n",
       "      <th>IsBusinessNews</th>\n",
       "    </tr>\n",
       "  </thead>\n",
       "  <tbody>\n",
       "    <tr>\n",
       "      <th>0</th>\n",
       "      <td>20010101</td>\n",
       "      <td>sports.wwe</td>\n",
       "      <td>win over cena satisfying but defeating underta...</td>\n",
       "      <td>0</td>\n",
       "    </tr>\n",
       "    <tr>\n",
       "      <th>1</th>\n",
       "      <td>20010102</td>\n",
       "      <td>unknown</td>\n",
       "      <td>Status quo will not be disturbed at Ayodhya; s...</td>\n",
       "      <td>0</td>\n",
       "    </tr>\n",
       "    <tr>\n",
       "      <th>2</th>\n",
       "      <td>20010102</td>\n",
       "      <td>unknown</td>\n",
       "      <td>Fissures in Hurriyat over Pak visit</td>\n",
       "      <td>0</td>\n",
       "    </tr>\n",
       "    <tr>\n",
       "      <th>3</th>\n",
       "      <td>20010102</td>\n",
       "      <td>unknown</td>\n",
       "      <td>America's unwanted heading for India?</td>\n",
       "      <td>0</td>\n",
       "    </tr>\n",
       "    <tr>\n",
       "      <th>4</th>\n",
       "      <td>20010102</td>\n",
       "      <td>unknown</td>\n",
       "      <td>For bigwigs; it is destination Goa</td>\n",
       "      <td>0</td>\n",
       "    </tr>\n",
       "  </tbody>\n",
       "</table>\n",
       "</div>"
      ],
      "text/plain": [
       "   publish_date headline_category  \\\n",
       "0      20010101        sports.wwe   \n",
       "1      20010102           unknown   \n",
       "2      20010102           unknown   \n",
       "3      20010102           unknown   \n",
       "4      20010102           unknown   \n",
       "\n",
       "                                       headline_text  IsBusinessNews  \n",
       "0  win over cena satisfying but defeating underta...               0  \n",
       "1  Status quo will not be disturbed at Ayodhya; s...               0  \n",
       "2                Fissures in Hurriyat over Pak visit               0  \n",
       "3              America's unwanted heading for India?               0  \n",
       "4                 For bigwigs; it is destination Goa               0  "
      ]
     },
     "execution_count": 69,
     "metadata": {},
     "output_type": "execute_result"
    }
   ],
   "source": [
    "news_dataset.head()"
   ]
  },
  {
   "cell_type": "code",
   "execution_count": 70,
   "metadata": {},
   "outputs": [],
   "source": [
    "# Convert the date format so that it can be used easily later.\n",
    "news_dataset['publish_date'] = pd.to_datetime(news_dataset['publish_date'],format='%Y%m%d')"
   ]
  },
  {
   "cell_type": "code",
   "execution_count": 71,
   "metadata": {},
   "outputs": [],
   "source": [
    "# Add function to identity the business related news from the entire news dataset.\n",
    "isBusinessNews = []\n",
    "def identify_business_news(category):\n",
    "    if 'business' in category.lower():\n",
    "        isBusinessNews.append(1)\n",
    "    else:\n",
    "        isBusinessNews.append(0)        "
   ]
  },
  {
   "cell_type": "code",
   "execution_count": 72,
   "metadata": {},
   "outputs": [],
   "source": [
    "for category in news_dataset.headline_category:\n",
    "    identify_business_news(category)"
   ]
  },
  {
   "cell_type": "code",
   "execution_count": 73,
   "metadata": {},
   "outputs": [],
   "source": [
    "# Add the IsBusinessNews Column to the datset\n",
    "news_dataset['IsBusinessNews'] = pd.DataFrame(isBusinessNews)"
   ]
  },
  {
   "cell_type": "code",
   "execution_count": 74,
   "metadata": {},
   "outputs": [],
   "source": [
    "# Filter the business news which will be considered under this study.\n",
    "business_news_dataset = news_dataset[news_dataset['IsBusinessNews'] == 1]"
   ]
  },
  {
   "cell_type": "code",
   "execution_count": 75,
   "metadata": {},
   "outputs": [
    {
     "data": {
      "text/html": [
       "<div>\n",
       "<style scoped>\n",
       "    .dataframe tbody tr th:only-of-type {\n",
       "        vertical-align: middle;\n",
       "    }\n",
       "\n",
       "    .dataframe tbody tr th {\n",
       "        vertical-align: top;\n",
       "    }\n",
       "\n",
       "    .dataframe thead th {\n",
       "        text-align: right;\n",
       "    }\n",
       "</style>\n",
       "<table border=\"1\" class=\"dataframe\">\n",
       "  <thead>\n",
       "    <tr style=\"text-align: right;\">\n",
       "      <th></th>\n",
       "      <th>publish_date</th>\n",
       "      <th>headline_category</th>\n",
       "      <th>headline_text</th>\n",
       "      <th>IsBusinessNews</th>\n",
       "    </tr>\n",
       "  </thead>\n",
       "  <tbody>\n",
       "    <tr>\n",
       "      <th>276</th>\n",
       "      <td>2001-01-04</td>\n",
       "      <td>business.india-business</td>\n",
       "      <td>Car dealers caught in Bihar sales tax ruling</td>\n",
       "      <td>1</td>\n",
       "    </tr>\n",
       "    <tr>\n",
       "      <th>4500</th>\n",
       "      <td>2001-05-22</td>\n",
       "      <td>business.india-business</td>\n",
       "      <td>Re-negotiation best: Deshmukh; lenders' SOS to...</td>\n",
       "      <td>1</td>\n",
       "    </tr>\n",
       "    <tr>\n",
       "      <th>4567</th>\n",
       "      <td>2001-05-22</td>\n",
       "      <td>business.india-business</td>\n",
       "      <td>Samsung says hello to cellular unit in India</td>\n",
       "      <td>1</td>\n",
       "    </tr>\n",
       "    <tr>\n",
       "      <th>4574</th>\n",
       "      <td>2001-05-22</td>\n",
       "      <td>business.india-business</td>\n",
       "      <td>Govt lifts port-linked curbs on imports</td>\n",
       "      <td>1</td>\n",
       "    </tr>\n",
       "    <tr>\n",
       "      <th>4587</th>\n",
       "      <td>2001-05-22</td>\n",
       "      <td>business.india-business</td>\n",
       "      <td>RIL plans to mop up to Rs 1;000cr</td>\n",
       "      <td>1</td>\n",
       "    </tr>\n",
       "  </tbody>\n",
       "</table>\n",
       "</div>"
      ],
      "text/plain": [
       "     publish_date        headline_category  \\\n",
       "276    2001-01-04  business.india-business   \n",
       "4500   2001-05-22  business.india-business   \n",
       "4567   2001-05-22  business.india-business   \n",
       "4574   2001-05-22  business.india-business   \n",
       "4587   2001-05-22  business.india-business   \n",
       "\n",
       "                                          headline_text  IsBusinessNews  \n",
       "276        Car dealers caught in Bihar sales tax ruling               1  \n",
       "4500  Re-negotiation best: Deshmukh; lenders' SOS to...               1  \n",
       "4567       Samsung says hello to cellular unit in India               1  \n",
       "4574            Govt lifts port-linked curbs on imports               1  \n",
       "4587                  RIL plans to mop up to Rs 1;000cr               1  "
      ]
     },
     "execution_count": 75,
     "metadata": {},
     "output_type": "execute_result"
    }
   ],
   "source": [
    "business_news_dataset.head()"
   ]
  },
  {
   "cell_type": "markdown",
   "metadata": {},
   "source": [
    "#### Preprocess the text data so that the model trains on only appropriate data"
   ]
  },
  {
   "cell_type": "code",
   "execution_count": 76,
   "metadata": {},
   "outputs": [
    {
     "data": {
      "text/plain": [
       "'!\"#$%&\\'()*+,-./:;<=>?@[\\\\]^_`{|}~'"
      ]
     },
     "execution_count": 76,
     "metadata": {},
     "output_type": "execute_result"
    }
   ],
   "source": [
    "import string\n",
    "PUNCT_TO_REMOVE = string.punctuation\n",
    "PUNCT_TO_REMOVE"
   ]
  },
  {
   "cell_type": "code",
   "execution_count": 77,
   "metadata": {},
   "outputs": [],
   "source": [
    "# Remove the puncturations\n",
    "business_news_dataset.headline_text = business_news_dataset.headline_text.apply(lambda text :  text.translate(str.maketrans('', '', PUNCT_TO_REMOVE)))"
   ]
  },
  {
   "cell_type": "code",
   "execution_count": 78,
   "metadata": {},
   "outputs": [],
   "source": [
    "# Normalize the text data to lower format\n",
    "business_news_dataset.headline_text = business_news_dataset.headline_text.apply(lambda text :  text.lower())"
   ]
  },
  {
   "cell_type": "code",
   "execution_count": 79,
   "metadata": {},
   "outputs": [],
   "source": [
    "# Tokenize the text data\n",
    "business_news_dataset.headline_text = business_news_dataset.headline_text.apply(lambda text :  text.split())"
   ]
  },
  {
   "cell_type": "code",
   "execution_count": 80,
   "metadata": {},
   "outputs": [],
   "source": [
    "# Reduce the words to basic forms using Porter Stemmer.\n",
    "ps = PorterStemmer()\n",
    "business_news_dataset.headline_text = business_news_dataset.headline_text.apply(lambda text :  [ps.stem(word) for word in text if not word in set(stopwords.words('english'))])"
   ]
  },
  {
   "cell_type": "code",
   "execution_count": 81,
   "metadata": {},
   "outputs": [
    {
     "data": {
      "text/html": [
       "<div>\n",
       "<style scoped>\n",
       "    .dataframe tbody tr th:only-of-type {\n",
       "        vertical-align: middle;\n",
       "    }\n",
       "\n",
       "    .dataframe tbody tr th {\n",
       "        vertical-align: top;\n",
       "    }\n",
       "\n",
       "    .dataframe thead th {\n",
       "        text-align: right;\n",
       "    }\n",
       "</style>\n",
       "<table border=\"1\" class=\"dataframe\">\n",
       "  <thead>\n",
       "    <tr style=\"text-align: right;\">\n",
       "      <th></th>\n",
       "      <th>publish_date</th>\n",
       "      <th>headline_category</th>\n",
       "      <th>headline_text</th>\n",
       "      <th>IsBusinessNews</th>\n",
       "    </tr>\n",
       "  </thead>\n",
       "  <tbody>\n",
       "    <tr>\n",
       "      <th>276</th>\n",
       "      <td>2001-01-04</td>\n",
       "      <td>business.india-business</td>\n",
       "      <td>[car, dealer, caught, bihar, sale, tax, rule]</td>\n",
       "      <td>1</td>\n",
       "    </tr>\n",
       "    <tr>\n",
       "      <th>4500</th>\n",
       "      <td>2001-05-22</td>\n",
       "      <td>business.india-business</td>\n",
       "      <td>[renegoti, best, deshmukh, lender, so, centr]</td>\n",
       "      <td>1</td>\n",
       "    </tr>\n",
       "    <tr>\n",
       "      <th>4567</th>\n",
       "      <td>2001-05-22</td>\n",
       "      <td>business.india-business</td>\n",
       "      <td>[samsung, say, hello, cellular, unit, india]</td>\n",
       "      <td>1</td>\n",
       "    </tr>\n",
       "    <tr>\n",
       "      <th>4574</th>\n",
       "      <td>2001-05-22</td>\n",
       "      <td>business.india-business</td>\n",
       "      <td>[govt, lift, portlink, curb, import]</td>\n",
       "      <td>1</td>\n",
       "    </tr>\n",
       "    <tr>\n",
       "      <th>4587</th>\n",
       "      <td>2001-05-22</td>\n",
       "      <td>business.india-business</td>\n",
       "      <td>[ril, plan, mop, rs, 1000cr]</td>\n",
       "      <td>1</td>\n",
       "    </tr>\n",
       "  </tbody>\n",
       "</table>\n",
       "</div>"
      ],
      "text/plain": [
       "     publish_date        headline_category  \\\n",
       "276    2001-01-04  business.india-business   \n",
       "4500   2001-05-22  business.india-business   \n",
       "4567   2001-05-22  business.india-business   \n",
       "4574   2001-05-22  business.india-business   \n",
       "4587   2001-05-22  business.india-business   \n",
       "\n",
       "                                      headline_text  IsBusinessNews  \n",
       "276   [car, dealer, caught, bihar, sale, tax, rule]               1  \n",
       "4500  [renegoti, best, deshmukh, lender, so, centr]               1  \n",
       "4567   [samsung, say, hello, cellular, unit, india]               1  \n",
       "4574           [govt, lift, portlink, curb, import]               1  \n",
       "4587                   [ril, plan, mop, rs, 1000cr]               1  "
      ]
     },
     "execution_count": 81,
     "metadata": {},
     "output_type": "execute_result"
    }
   ],
   "source": [
    "business_news_dataset.head()"
   ]
  },
  {
   "cell_type": "code",
   "execution_count": 82,
   "metadata": {},
   "outputs": [],
   "source": [
    "# Join the stemmed tokens to get the normalized sentence.\n",
    "business_news_dataset.headline_text = business_news_dataset.headline_text.apply(lambda text :  ' '.join(text))"
   ]
  },
  {
   "cell_type": "code",
   "execution_count": 83,
   "metadata": {},
   "outputs": [
    {
     "data": {
      "text/html": [
       "<div>\n",
       "<style scoped>\n",
       "    .dataframe tbody tr th:only-of-type {\n",
       "        vertical-align: middle;\n",
       "    }\n",
       "\n",
       "    .dataframe tbody tr th {\n",
       "        vertical-align: top;\n",
       "    }\n",
       "\n",
       "    .dataframe thead th {\n",
       "        text-align: right;\n",
       "    }\n",
       "</style>\n",
       "<table border=\"1\" class=\"dataframe\">\n",
       "  <thead>\n",
       "    <tr style=\"text-align: right;\">\n",
       "      <th></th>\n",
       "      <th>publish_date</th>\n",
       "      <th>headline_category</th>\n",
       "      <th>headline_text</th>\n",
       "      <th>IsBusinessNews</th>\n",
       "    </tr>\n",
       "  </thead>\n",
       "  <tbody>\n",
       "    <tr>\n",
       "      <th>276</th>\n",
       "      <td>2001-01-04</td>\n",
       "      <td>business.india-business</td>\n",
       "      <td>car dealer caught bihar sale tax rule</td>\n",
       "      <td>1</td>\n",
       "    </tr>\n",
       "    <tr>\n",
       "      <th>4500</th>\n",
       "      <td>2001-05-22</td>\n",
       "      <td>business.india-business</td>\n",
       "      <td>renegoti best deshmukh lender so centr</td>\n",
       "      <td>1</td>\n",
       "    </tr>\n",
       "    <tr>\n",
       "      <th>4567</th>\n",
       "      <td>2001-05-22</td>\n",
       "      <td>business.india-business</td>\n",
       "      <td>samsung say hello cellular unit india</td>\n",
       "      <td>1</td>\n",
       "    </tr>\n",
       "    <tr>\n",
       "      <th>4574</th>\n",
       "      <td>2001-05-22</td>\n",
       "      <td>business.india-business</td>\n",
       "      <td>govt lift portlink curb import</td>\n",
       "      <td>1</td>\n",
       "    </tr>\n",
       "    <tr>\n",
       "      <th>4587</th>\n",
       "      <td>2001-05-22</td>\n",
       "      <td>business.india-business</td>\n",
       "      <td>ril plan mop rs 1000cr</td>\n",
       "      <td>1</td>\n",
       "    </tr>\n",
       "  </tbody>\n",
       "</table>\n",
       "</div>"
      ],
      "text/plain": [
       "     publish_date        headline_category  \\\n",
       "276    2001-01-04  business.india-business   \n",
       "4500   2001-05-22  business.india-business   \n",
       "4567   2001-05-22  business.india-business   \n",
       "4574   2001-05-22  business.india-business   \n",
       "4587   2001-05-22  business.india-business   \n",
       "\n",
       "                               headline_text  IsBusinessNews  \n",
       "276    car dealer caught bihar sale tax rule               1  \n",
       "4500  renegoti best deshmukh lender so centr               1  \n",
       "4567   samsung say hello cellular unit india               1  \n",
       "4574          govt lift portlink curb import               1  \n",
       "4587                  ril plan mop rs 1000cr               1  "
      ]
     },
     "execution_count": 83,
     "metadata": {},
     "output_type": "execute_result"
    }
   ],
   "source": [
    "business_news_dataset.head()"
   ]
  },
  {
   "cell_type": "code",
   "execution_count": 84,
   "metadata": {},
   "outputs": [],
   "source": [
    "#Functions to get the subjectivity and polarity\n",
    "def getSubjectivity(text):\n",
    "    return TextBlob(text).sentiment.subjectivity\n",
    "\n",
    "def getPolarity(text):\n",
    "    return  TextBlob(text).sentiment.polarity"
   ]
  },
  {
   "cell_type": "code",
   "execution_count": 85,
   "metadata": {},
   "outputs": [],
   "source": [
    "# Add Subjectivety column for the text.\n",
    "business_news_dataset['Subjectivety'] = business_news_dataset.headline_text.apply(lambda text : getSubjectivity(text))"
   ]
  },
  {
   "cell_type": "code",
   "execution_count": 86,
   "metadata": {},
   "outputs": [],
   "source": [
    "# Add Polarity column for the text.\n",
    "business_news_dataset['Polarity'] = business_news_dataset.headline_text.apply(lambda text : getPolarity(text))"
   ]
  },
  {
   "cell_type": "code",
   "execution_count": 87,
   "metadata": {},
   "outputs": [
    {
     "data": {
      "text/html": [
       "<div>\n",
       "<style scoped>\n",
       "    .dataframe tbody tr th:only-of-type {\n",
       "        vertical-align: middle;\n",
       "    }\n",
       "\n",
       "    .dataframe tbody tr th {\n",
       "        vertical-align: top;\n",
       "    }\n",
       "\n",
       "    .dataframe thead th {\n",
       "        text-align: right;\n",
       "    }\n",
       "</style>\n",
       "<table border=\"1\" class=\"dataframe\">\n",
       "  <thead>\n",
       "    <tr style=\"text-align: right;\">\n",
       "      <th></th>\n",
       "      <th>publish_date</th>\n",
       "      <th>headline_category</th>\n",
       "      <th>headline_text</th>\n",
       "      <th>IsBusinessNews</th>\n",
       "      <th>Subjectivety</th>\n",
       "      <th>Polarity</th>\n",
       "    </tr>\n",
       "  </thead>\n",
       "  <tbody>\n",
       "    <tr>\n",
       "      <th>276</th>\n",
       "      <td>2001-01-04</td>\n",
       "      <td>business.india-business</td>\n",
       "      <td>car dealer caught bihar sale tax rule</td>\n",
       "      <td>1</td>\n",
       "      <td>0.0</td>\n",
       "      <td>0.0</td>\n",
       "    </tr>\n",
       "    <tr>\n",
       "      <th>4500</th>\n",
       "      <td>2001-05-22</td>\n",
       "      <td>business.india-business</td>\n",
       "      <td>renegoti best deshmukh lender so centr</td>\n",
       "      <td>1</td>\n",
       "      <td>0.3</td>\n",
       "      <td>1.0</td>\n",
       "    </tr>\n",
       "    <tr>\n",
       "      <th>4567</th>\n",
       "      <td>2001-05-22</td>\n",
       "      <td>business.india-business</td>\n",
       "      <td>samsung say hello cellular unit india</td>\n",
       "      <td>1</td>\n",
       "      <td>0.0</td>\n",
       "      <td>0.0</td>\n",
       "    </tr>\n",
       "    <tr>\n",
       "      <th>4574</th>\n",
       "      <td>2001-05-22</td>\n",
       "      <td>business.india-business</td>\n",
       "      <td>govt lift portlink curb import</td>\n",
       "      <td>1</td>\n",
       "      <td>0.0</td>\n",
       "      <td>0.0</td>\n",
       "    </tr>\n",
       "    <tr>\n",
       "      <th>4587</th>\n",
       "      <td>2001-05-22</td>\n",
       "      <td>business.india-business</td>\n",
       "      <td>ril plan mop rs 1000cr</td>\n",
       "      <td>1</td>\n",
       "      <td>0.0</td>\n",
       "      <td>0.0</td>\n",
       "    </tr>\n",
       "  </tbody>\n",
       "</table>\n",
       "</div>"
      ],
      "text/plain": [
       "     publish_date        headline_category  \\\n",
       "276    2001-01-04  business.india-business   \n",
       "4500   2001-05-22  business.india-business   \n",
       "4567   2001-05-22  business.india-business   \n",
       "4574   2001-05-22  business.india-business   \n",
       "4587   2001-05-22  business.india-business   \n",
       "\n",
       "                               headline_text  IsBusinessNews  Subjectivety  \\\n",
       "276    car dealer caught bihar sale tax rule               1           0.0   \n",
       "4500  renegoti best deshmukh lender so centr               1           0.3   \n",
       "4567   samsung say hello cellular unit india               1           0.0   \n",
       "4574          govt lift portlink curb import               1           0.0   \n",
       "4587                  ril plan mop rs 1000cr               1           0.0   \n",
       "\n",
       "      Polarity  \n",
       "276        0.0  \n",
       "4500       1.0  \n",
       "4567       0.0  \n",
       "4574       0.0  \n",
       "4587       0.0  "
      ]
     },
     "execution_count": 87,
     "metadata": {},
     "output_type": "execute_result"
    }
   ],
   "source": [
    "business_news_dataset.head(5)"
   ]
  },
  {
   "cell_type": "code",
   "execution_count": 88,
   "metadata": {},
   "outputs": [],
   "source": [
    "# Get the other scores for the text, which can be helpful in preparing a model.\n",
    "sia = SentimentIntensityAnalyzer()\n",
    "\n",
    "business_news_dataset['Compound'] = [sia.polarity_scores(v)['compound'] for v in business_news_dataset['headline_text']]\n",
    "business_news_dataset['Negative'] = [sia.polarity_scores(v)['neg'] for v in business_news_dataset['headline_text']]\n",
    "business_news_dataset['Neutral'] = [sia.polarity_scores(v)['neu'] for v in business_news_dataset['headline_text']]\n",
    "business_news_dataset['Positive'] = [sia.polarity_scores(v)['pos'] for v in business_news_dataset['headline_text']]"
   ]
  },
  {
   "cell_type": "markdown",
   "metadata": {},
   "source": [
    "## Merge the news and stock dataset and prepare a machine learning model."
   ]
  },
  {
   "cell_type": "code",
   "execution_count": 89,
   "metadata": {},
   "outputs": [
    {
     "data": {
      "text/html": [
       "<div>\n",
       "<style scoped>\n",
       "    .dataframe tbody tr th:only-of-type {\n",
       "        vertical-align: middle;\n",
       "    }\n",
       "\n",
       "    .dataframe tbody tr th {\n",
       "        vertical-align: top;\n",
       "    }\n",
       "\n",
       "    .dataframe thead th {\n",
       "        text-align: right;\n",
       "    }\n",
       "</style>\n",
       "<table border=\"1\" class=\"dataframe\">\n",
       "  <thead>\n",
       "    <tr style=\"text-align: right;\">\n",
       "      <th></th>\n",
       "      <th>publish_date</th>\n",
       "      <th>headline_category</th>\n",
       "      <th>headline_text</th>\n",
       "      <th>IsBusinessNews</th>\n",
       "      <th>Subjectivety</th>\n",
       "      <th>Polarity</th>\n",
       "      <th>Compound</th>\n",
       "      <th>Negative</th>\n",
       "      <th>Neutral</th>\n",
       "      <th>Positive</th>\n",
       "    </tr>\n",
       "  </thead>\n",
       "  <tbody>\n",
       "    <tr>\n",
       "      <th>276</th>\n",
       "      <td>2001-01-04</td>\n",
       "      <td>business.india-business</td>\n",
       "      <td>car dealer caught bihar sale tax rule</td>\n",
       "      <td>1</td>\n",
       "      <td>0.0</td>\n",
       "      <td>0.0</td>\n",
       "      <td>0.0000</td>\n",
       "      <td>0.0</td>\n",
       "      <td>1.000</td>\n",
       "      <td>0.000</td>\n",
       "    </tr>\n",
       "    <tr>\n",
       "      <th>4500</th>\n",
       "      <td>2001-05-22</td>\n",
       "      <td>business.india-business</td>\n",
       "      <td>renegoti best deshmukh lender so centr</td>\n",
       "      <td>1</td>\n",
       "      <td>0.3</td>\n",
       "      <td>1.0</td>\n",
       "      <td>0.6369</td>\n",
       "      <td>0.0</td>\n",
       "      <td>0.543</td>\n",
       "      <td>0.457</td>\n",
       "    </tr>\n",
       "    <tr>\n",
       "      <th>4567</th>\n",
       "      <td>2001-05-22</td>\n",
       "      <td>business.india-business</td>\n",
       "      <td>samsung say hello cellular unit india</td>\n",
       "      <td>1</td>\n",
       "      <td>0.0</td>\n",
       "      <td>0.0</td>\n",
       "      <td>0.0000</td>\n",
       "      <td>0.0</td>\n",
       "      <td>1.000</td>\n",
       "      <td>0.000</td>\n",
       "    </tr>\n",
       "    <tr>\n",
       "      <th>4574</th>\n",
       "      <td>2001-05-22</td>\n",
       "      <td>business.india-business</td>\n",
       "      <td>govt lift portlink curb import</td>\n",
       "      <td>1</td>\n",
       "      <td>0.0</td>\n",
       "      <td>0.0</td>\n",
       "      <td>0.0000</td>\n",
       "      <td>0.0</td>\n",
       "      <td>1.000</td>\n",
       "      <td>0.000</td>\n",
       "    </tr>\n",
       "    <tr>\n",
       "      <th>4587</th>\n",
       "      <td>2001-05-22</td>\n",
       "      <td>business.india-business</td>\n",
       "      <td>ril plan mop rs 1000cr</td>\n",
       "      <td>1</td>\n",
       "      <td>0.0</td>\n",
       "      <td>0.0</td>\n",
       "      <td>0.0000</td>\n",
       "      <td>0.0</td>\n",
       "      <td>1.000</td>\n",
       "      <td>0.000</td>\n",
       "    </tr>\n",
       "  </tbody>\n",
       "</table>\n",
       "</div>"
      ],
      "text/plain": [
       "     publish_date        headline_category  \\\n",
       "276    2001-01-04  business.india-business   \n",
       "4500   2001-05-22  business.india-business   \n",
       "4567   2001-05-22  business.india-business   \n",
       "4574   2001-05-22  business.india-business   \n",
       "4587   2001-05-22  business.india-business   \n",
       "\n",
       "                               headline_text  IsBusinessNews  Subjectivety  \\\n",
       "276    car dealer caught bihar sale tax rule               1           0.0   \n",
       "4500  renegoti best deshmukh lender so centr               1           0.3   \n",
       "4567   samsung say hello cellular unit india               1           0.0   \n",
       "4574          govt lift portlink curb import               1           0.0   \n",
       "4587                  ril plan mop rs 1000cr               1           0.0   \n",
       "\n",
       "      Polarity  Compound  Negative  Neutral  Positive  \n",
       "276        0.0    0.0000       0.0    1.000     0.000  \n",
       "4500       1.0    0.6369       0.0    0.543     0.457  \n",
       "4567       0.0    0.0000       0.0    1.000     0.000  \n",
       "4574       0.0    0.0000       0.0    1.000     0.000  \n",
       "4587       0.0    0.0000       0.0    1.000     0.000  "
      ]
     },
     "execution_count": 89,
     "metadata": {},
     "output_type": "execute_result"
    }
   ],
   "source": [
    "business_news_dataset.head()"
   ]
  },
  {
   "cell_type": "code",
   "execution_count": 90,
   "metadata": {},
   "outputs": [
    {
     "data": {
      "text/html": [
       "<div>\n",
       "<style scoped>\n",
       "    .dataframe tbody tr th:only-of-type {\n",
       "        vertical-align: middle;\n",
       "    }\n",
       "\n",
       "    .dataframe tbody tr th {\n",
       "        vertical-align: top;\n",
       "    }\n",
       "\n",
       "    .dataframe thead th {\n",
       "        text-align: right;\n",
       "    }\n",
       "</style>\n",
       "<table border=\"1\" class=\"dataframe\">\n",
       "  <thead>\n",
       "    <tr style=\"text-align: right;\">\n",
       "      <th></th>\n",
       "      <th>Date</th>\n",
       "      <th>Open</th>\n",
       "      <th>High</th>\n",
       "      <th>Low</th>\n",
       "      <th>Close</th>\n",
       "      <th>Adj Close</th>\n",
       "      <th>Volume</th>\n",
       "    </tr>\n",
       "  </thead>\n",
       "  <tbody>\n",
       "    <tr>\n",
       "      <th>0</th>\n",
       "      <td>2020-03-03</td>\n",
       "      <td>38480.890625</td>\n",
       "      <td>38754.238281</td>\n",
       "      <td>38142.300781</td>\n",
       "      <td>38623.699219</td>\n",
       "      <td>38623.699219</td>\n",
       "      <td>10600.0</td>\n",
       "    </tr>\n",
       "    <tr>\n",
       "      <th>1</th>\n",
       "      <td>2020-03-04</td>\n",
       "      <td>38715.718750</td>\n",
       "      <td>38791.699219</td>\n",
       "      <td>37846.101563</td>\n",
       "      <td>38409.480469</td>\n",
       "      <td>38409.480469</td>\n",
       "      <td>15300.0</td>\n",
       "    </tr>\n",
       "    <tr>\n",
       "      <th>2</th>\n",
       "      <td>2020-03-05</td>\n",
       "      <td>38604.250000</td>\n",
       "      <td>38887.800781</td>\n",
       "      <td>38386.679688</td>\n",
       "      <td>38470.609375</td>\n",
       "      <td>38470.609375</td>\n",
       "      <td>13500.0</td>\n",
       "    </tr>\n",
       "    <tr>\n",
       "      <th>3</th>\n",
       "      <td>2020-03-06</td>\n",
       "      <td>37613.960938</td>\n",
       "      <td>37747.070313</td>\n",
       "      <td>37011.089844</td>\n",
       "      <td>37576.621094</td>\n",
       "      <td>37576.621094</td>\n",
       "      <td>19000.0</td>\n",
       "    </tr>\n",
       "    <tr>\n",
       "      <th>4</th>\n",
       "      <td>2020-03-09</td>\n",
       "      <td>36950.199219</td>\n",
       "      <td>36950.199219</td>\n",
       "      <td>35109.179688</td>\n",
       "      <td>35634.949219</td>\n",
       "      <td>35634.949219</td>\n",
       "      <td>18800.0</td>\n",
       "    </tr>\n",
       "  </tbody>\n",
       "</table>\n",
       "</div>"
      ],
      "text/plain": [
       "         Date          Open          High           Low         Close  \\\n",
       "0  2020-03-03  38480.890625  38754.238281  38142.300781  38623.699219   \n",
       "1  2020-03-04  38715.718750  38791.699219  37846.101563  38409.480469   \n",
       "2  2020-03-05  38604.250000  38887.800781  38386.679688  38470.609375   \n",
       "3  2020-03-06  37613.960938  37747.070313  37011.089844  37576.621094   \n",
       "4  2020-03-09  36950.199219  36950.199219  35109.179688  35634.949219   \n",
       "\n",
       "      Adj Close   Volume  \n",
       "0  38623.699219  10600.0  \n",
       "1  38409.480469  15300.0  \n",
       "2  38470.609375  13500.0  \n",
       "3  37576.621094  19000.0  \n",
       "4  35634.949219  18800.0  "
      ]
     },
     "execution_count": 90,
     "metadata": {},
     "output_type": "execute_result"
    }
   ],
   "source": [
    "stock_dataset.head()"
   ]
  },
  {
   "cell_type": "code",
   "execution_count": 91,
   "metadata": {},
   "outputs": [],
   "source": [
    "# Since date column name is different in both the dataset, let's add Date column in the business_news dataset with the same\n",
    "# values as publish_date column\n",
    "business_news_dataset['Date'] = business_news_dataset.publish_date"
   ]
  },
  {
   "cell_type": "code",
   "execution_count": 92,
   "metadata": {},
   "outputs": [
    {
     "data": {
      "text/html": [
       "<div>\n",
       "<style scoped>\n",
       "    .dataframe tbody tr th:only-of-type {\n",
       "        vertical-align: middle;\n",
       "    }\n",
       "\n",
       "    .dataframe tbody tr th {\n",
       "        vertical-align: top;\n",
       "    }\n",
       "\n",
       "    .dataframe thead th {\n",
       "        text-align: right;\n",
       "    }\n",
       "</style>\n",
       "<table border=\"1\" class=\"dataframe\">\n",
       "  <thead>\n",
       "    <tr style=\"text-align: right;\">\n",
       "      <th></th>\n",
       "      <th>publish_date</th>\n",
       "      <th>headline_category</th>\n",
       "      <th>headline_text</th>\n",
       "      <th>IsBusinessNews</th>\n",
       "      <th>Subjectivety</th>\n",
       "      <th>Polarity</th>\n",
       "      <th>Compound</th>\n",
       "      <th>Negative</th>\n",
       "      <th>Neutral</th>\n",
       "      <th>Positive</th>\n",
       "      <th>Date</th>\n",
       "    </tr>\n",
       "  </thead>\n",
       "  <tbody>\n",
       "    <tr>\n",
       "      <th>276</th>\n",
       "      <td>2001-01-04</td>\n",
       "      <td>business.india-business</td>\n",
       "      <td>car dealer caught bihar sale tax rule</td>\n",
       "      <td>1</td>\n",
       "      <td>0.0</td>\n",
       "      <td>0.0</td>\n",
       "      <td>0.0000</td>\n",
       "      <td>0.0</td>\n",
       "      <td>1.000</td>\n",
       "      <td>0.000</td>\n",
       "      <td>2001-01-04</td>\n",
       "    </tr>\n",
       "    <tr>\n",
       "      <th>4500</th>\n",
       "      <td>2001-05-22</td>\n",
       "      <td>business.india-business</td>\n",
       "      <td>renegoti best deshmukh lender so centr</td>\n",
       "      <td>1</td>\n",
       "      <td>0.3</td>\n",
       "      <td>1.0</td>\n",
       "      <td>0.6369</td>\n",
       "      <td>0.0</td>\n",
       "      <td>0.543</td>\n",
       "      <td>0.457</td>\n",
       "      <td>2001-05-22</td>\n",
       "    </tr>\n",
       "    <tr>\n",
       "      <th>4567</th>\n",
       "      <td>2001-05-22</td>\n",
       "      <td>business.india-business</td>\n",
       "      <td>samsung say hello cellular unit india</td>\n",
       "      <td>1</td>\n",
       "      <td>0.0</td>\n",
       "      <td>0.0</td>\n",
       "      <td>0.0000</td>\n",
       "      <td>0.0</td>\n",
       "      <td>1.000</td>\n",
       "      <td>0.000</td>\n",
       "      <td>2001-05-22</td>\n",
       "    </tr>\n",
       "    <tr>\n",
       "      <th>4574</th>\n",
       "      <td>2001-05-22</td>\n",
       "      <td>business.india-business</td>\n",
       "      <td>govt lift portlink curb import</td>\n",
       "      <td>1</td>\n",
       "      <td>0.0</td>\n",
       "      <td>0.0</td>\n",
       "      <td>0.0000</td>\n",
       "      <td>0.0</td>\n",
       "      <td>1.000</td>\n",
       "      <td>0.000</td>\n",
       "      <td>2001-05-22</td>\n",
       "    </tr>\n",
       "    <tr>\n",
       "      <th>4587</th>\n",
       "      <td>2001-05-22</td>\n",
       "      <td>business.india-business</td>\n",
       "      <td>ril plan mop rs 1000cr</td>\n",
       "      <td>1</td>\n",
       "      <td>0.0</td>\n",
       "      <td>0.0</td>\n",
       "      <td>0.0000</td>\n",
       "      <td>0.0</td>\n",
       "      <td>1.000</td>\n",
       "      <td>0.000</td>\n",
       "      <td>2001-05-22</td>\n",
       "    </tr>\n",
       "  </tbody>\n",
       "</table>\n",
       "</div>"
      ],
      "text/plain": [
       "     publish_date        headline_category  \\\n",
       "276    2001-01-04  business.india-business   \n",
       "4500   2001-05-22  business.india-business   \n",
       "4567   2001-05-22  business.india-business   \n",
       "4574   2001-05-22  business.india-business   \n",
       "4587   2001-05-22  business.india-business   \n",
       "\n",
       "                               headline_text  IsBusinessNews  Subjectivety  \\\n",
       "276    car dealer caught bihar sale tax rule               1           0.0   \n",
       "4500  renegoti best deshmukh lender so centr               1           0.3   \n",
       "4567   samsung say hello cellular unit india               1           0.0   \n",
       "4574          govt lift portlink curb import               1           0.0   \n",
       "4587                  ril plan mop rs 1000cr               1           0.0   \n",
       "\n",
       "      Polarity  Compound  Negative  Neutral  Positive       Date  \n",
       "276        0.0    0.0000       0.0    1.000     0.000 2001-01-04  \n",
       "4500       1.0    0.6369       0.0    0.543     0.457 2001-05-22  \n",
       "4567       0.0    0.0000       0.0    1.000     0.000 2001-05-22  \n",
       "4574       0.0    0.0000       0.0    1.000     0.000 2001-05-22  \n",
       "4587       0.0    0.0000       0.0    1.000     0.000 2001-05-22  "
      ]
     },
     "execution_count": 92,
     "metadata": {},
     "output_type": "execute_result"
    }
   ],
   "source": [
    "business_news_dataset.head()"
   ]
  },
  {
   "cell_type": "code",
   "execution_count": 93,
   "metadata": {},
   "outputs": [
    {
     "data": {
      "text/plain": [
       "publish_date         datetime64[ns]\n",
       "headline_category            object\n",
       "headline_text                object\n",
       "IsBusinessNews                int64\n",
       "Subjectivety                float64\n",
       "Polarity                    float64\n",
       "Compound                    float64\n",
       "Negative                    float64\n",
       "Neutral                     float64\n",
       "Positive                    float64\n",
       "Date                 datetime64[ns]\n",
       "dtype: object"
      ]
     },
     "execution_count": 93,
     "metadata": {},
     "output_type": "execute_result"
    }
   ],
   "source": [
    "business_news_dataset.dtypes"
   ]
  },
  {
   "cell_type": "code",
   "execution_count": 94,
   "metadata": {},
   "outputs": [
    {
     "data": {
      "text/plain": [
       "Date          object\n",
       "Open         float64\n",
       "High         float64\n",
       "Low          float64\n",
       "Close        float64\n",
       "Adj Close    float64\n",
       "Volume       float64\n",
       "dtype: object"
      ]
     },
     "execution_count": 94,
     "metadata": {},
     "output_type": "execute_result"
    }
   ],
   "source": [
    "stock_dataset.dtypes"
   ]
  },
  {
   "cell_type": "markdown",
   "metadata": {},
   "source": [
    "We can clearly see the datatype for Date in both the columns are different let's change the datatype so that the datasets are easier to join."
   ]
  },
  {
   "cell_type": "code",
   "execution_count": 95,
   "metadata": {},
   "outputs": [],
   "source": [
    "stock_dataset.Date = stock_dataset.Date.astype('datetime64[ns]')"
   ]
  },
  {
   "cell_type": "code",
   "execution_count": 96,
   "metadata": {},
   "outputs": [],
   "source": [
    "merged_dataset = pd.merge(business_news_dataset, stock_dataset, how='inner', on='Date')"
   ]
  },
  {
   "cell_type": "code",
   "execution_count": 97,
   "metadata": {},
   "outputs": [
    {
     "data": {
      "text/html": [
       "<div>\n",
       "<style scoped>\n",
       "    .dataframe tbody tr th:only-of-type {\n",
       "        vertical-align: middle;\n",
       "    }\n",
       "\n",
       "    .dataframe tbody tr th {\n",
       "        vertical-align: top;\n",
       "    }\n",
       "\n",
       "    .dataframe thead th {\n",
       "        text-align: right;\n",
       "    }\n",
       "</style>\n",
       "<table border=\"1\" class=\"dataframe\">\n",
       "  <thead>\n",
       "    <tr style=\"text-align: right;\">\n",
       "      <th></th>\n",
       "      <th>publish_date</th>\n",
       "      <th>headline_category</th>\n",
       "      <th>headline_text</th>\n",
       "      <th>IsBusinessNews</th>\n",
       "      <th>Subjectivety</th>\n",
       "      <th>Polarity</th>\n",
       "      <th>Compound</th>\n",
       "      <th>Negative</th>\n",
       "      <th>Neutral</th>\n",
       "      <th>Positive</th>\n",
       "      <th>Date</th>\n",
       "      <th>Open</th>\n",
       "      <th>High</th>\n",
       "      <th>Low</th>\n",
       "      <th>Close</th>\n",
       "      <th>Adj Close</th>\n",
       "      <th>Volume</th>\n",
       "    </tr>\n",
       "  </thead>\n",
       "  <tbody>\n",
       "    <tr>\n",
       "      <th>0</th>\n",
       "      <td>2020-03-03</td>\n",
       "      <td>business.india-business</td>\n",
       "      <td>soft raw materi price spell hope corona may pl...</td>\n",
       "      <td>1</td>\n",
       "      <td>0.405769</td>\n",
       "      <td>-0.065385</td>\n",
       "      <td>0.6486</td>\n",
       "      <td>0.0</td>\n",
       "      <td>0.629</td>\n",
       "      <td>0.371</td>\n",
       "      <td>2020-03-03</td>\n",
       "      <td>38480.890625</td>\n",
       "      <td>38754.238281</td>\n",
       "      <td>38142.300781</td>\n",
       "      <td>38623.699219</td>\n",
       "      <td>38623.699219</td>\n",
       "      <td>10600.0</td>\n",
       "    </tr>\n",
       "    <tr>\n",
       "      <th>1</th>\n",
       "      <td>2020-03-03</td>\n",
       "      <td>business.india-business</td>\n",
       "      <td>urea co benefit corona impact ga price regist ...</td>\n",
       "      <td>1</td>\n",
       "      <td>0.000000</td>\n",
       "      <td>0.000000</td>\n",
       "      <td>0.4588</td>\n",
       "      <td>0.0</td>\n",
       "      <td>0.727</td>\n",
       "      <td>0.273</td>\n",
       "      <td>2020-03-03</td>\n",
       "      <td>38480.890625</td>\n",
       "      <td>38754.238281</td>\n",
       "      <td>38142.300781</td>\n",
       "      <td>38623.699219</td>\n",
       "      <td>38623.699219</td>\n",
       "      <td>10600.0</td>\n",
       "    </tr>\n",
       "    <tr>\n",
       "      <th>2</th>\n",
       "      <td>2020-03-03</td>\n",
       "      <td>business.india-business</td>\n",
       "      <td>northern arc capit credabl close trade receiv ...</td>\n",
       "      <td>1</td>\n",
       "      <td>0.000000</td>\n",
       "      <td>0.000000</td>\n",
       "      <td>0.0000</td>\n",
       "      <td>0.0</td>\n",
       "      <td>1.000</td>\n",
       "      <td>0.000</td>\n",
       "      <td>2020-03-03</td>\n",
       "      <td>38480.890625</td>\n",
       "      <td>38754.238281</td>\n",
       "      <td>38142.300781</td>\n",
       "      <td>38623.699219</td>\n",
       "      <td>38623.699219</td>\n",
       "      <td>10600.0</td>\n",
       "    </tr>\n",
       "    <tr>\n",
       "      <th>3</th>\n",
       "      <td>2020-03-03</td>\n",
       "      <td>business.india-business</td>\n",
       "      <td>pevc invest 18bn feb 2020</td>\n",
       "      <td>1</td>\n",
       "      <td>0.000000</td>\n",
       "      <td>0.000000</td>\n",
       "      <td>0.0000</td>\n",
       "      <td>0.0</td>\n",
       "      <td>1.000</td>\n",
       "      <td>0.000</td>\n",
       "      <td>2020-03-03</td>\n",
       "      <td>38480.890625</td>\n",
       "      <td>38754.238281</td>\n",
       "      <td>38142.300781</td>\n",
       "      <td>38623.699219</td>\n",
       "      <td>38623.699219</td>\n",
       "      <td>10600.0</td>\n",
       "    </tr>\n",
       "    <tr>\n",
       "      <th>4</th>\n",
       "      <td>2020-03-03</td>\n",
       "      <td>business.india-business</td>\n",
       "      <td>cocacola chief want doubl india biz 5 yr</td>\n",
       "      <td>1</td>\n",
       "      <td>0.000000</td>\n",
       "      <td>0.000000</td>\n",
       "      <td>0.0772</td>\n",
       "      <td>0.0</td>\n",
       "      <td>0.822</td>\n",
       "      <td>0.178</td>\n",
       "      <td>2020-03-03</td>\n",
       "      <td>38480.890625</td>\n",
       "      <td>38754.238281</td>\n",
       "      <td>38142.300781</td>\n",
       "      <td>38623.699219</td>\n",
       "      <td>38623.699219</td>\n",
       "      <td>10600.0</td>\n",
       "    </tr>\n",
       "  </tbody>\n",
       "</table>\n",
       "</div>"
      ],
      "text/plain": [
       "  publish_date        headline_category  \\\n",
       "0   2020-03-03  business.india-business   \n",
       "1   2020-03-03  business.india-business   \n",
       "2   2020-03-03  business.india-business   \n",
       "3   2020-03-03  business.india-business   \n",
       "4   2020-03-03  business.india-business   \n",
       "\n",
       "                                       headline_text  IsBusinessNews  \\\n",
       "0  soft raw materi price spell hope corona may pl...               1   \n",
       "1  urea co benefit corona impact ga price regist ...               1   \n",
       "2  northern arc capit credabl close trade receiv ...               1   \n",
       "3                          pevc invest 18bn feb 2020               1   \n",
       "4           cocacola chief want doubl india biz 5 yr               1   \n",
       "\n",
       "   Subjectivety  Polarity  Compound  Negative  Neutral  Positive       Date  \\\n",
       "0      0.405769 -0.065385    0.6486       0.0    0.629     0.371 2020-03-03   \n",
       "1      0.000000  0.000000    0.4588       0.0    0.727     0.273 2020-03-03   \n",
       "2      0.000000  0.000000    0.0000       0.0    1.000     0.000 2020-03-03   \n",
       "3      0.000000  0.000000    0.0000       0.0    1.000     0.000 2020-03-03   \n",
       "4      0.000000  0.000000    0.0772       0.0    0.822     0.178 2020-03-03   \n",
       "\n",
       "           Open          High           Low         Close     Adj Close  \\\n",
       "0  38480.890625  38754.238281  38142.300781  38623.699219  38623.699219   \n",
       "1  38480.890625  38754.238281  38142.300781  38623.699219  38623.699219   \n",
       "2  38480.890625  38754.238281  38142.300781  38623.699219  38623.699219   \n",
       "3  38480.890625  38754.238281  38142.300781  38623.699219  38623.699219   \n",
       "4  38480.890625  38754.238281  38142.300781  38623.699219  38623.699219   \n",
       "\n",
       "    Volume  \n",
       "0  10600.0  \n",
       "1  10600.0  \n",
       "2  10600.0  \n",
       "3  10600.0  \n",
       "4  10600.0  "
      ]
     },
     "execution_count": 97,
     "metadata": {},
     "output_type": "execute_result"
    }
   ],
   "source": [
    "merged_dataset.head()"
   ]
  },
  {
   "cell_type": "markdown",
   "metadata": {},
   "source": [
    "From the merged dataset, the columns of our interest are : 'Subjectivety','Polarity','Compound','Negative','Positive','Neutral','Close'"
   ]
  },
  {
   "cell_type": "code",
   "execution_count": 98,
   "metadata": {},
   "outputs": [],
   "source": [
    "dataset_for_modelling = merged_dataset[['Subjectivety','Polarity','Compound','Negative','Positive','Neutral','Close']]"
   ]
  },
  {
   "cell_type": "code",
   "execution_count": 99,
   "metadata": {},
   "outputs": [
    {
     "data": {
      "text/html": [
       "<div>\n",
       "<style scoped>\n",
       "    .dataframe tbody tr th:only-of-type {\n",
       "        vertical-align: middle;\n",
       "    }\n",
       "\n",
       "    .dataframe tbody tr th {\n",
       "        vertical-align: top;\n",
       "    }\n",
       "\n",
       "    .dataframe thead th {\n",
       "        text-align: right;\n",
       "    }\n",
       "</style>\n",
       "<table border=\"1\" class=\"dataframe\">\n",
       "  <thead>\n",
       "    <tr style=\"text-align: right;\">\n",
       "      <th></th>\n",
       "      <th>Subjectivety</th>\n",
       "      <th>Polarity</th>\n",
       "      <th>Compound</th>\n",
       "      <th>Negative</th>\n",
       "      <th>Positive</th>\n",
       "      <th>Neutral</th>\n",
       "      <th>Close</th>\n",
       "    </tr>\n",
       "  </thead>\n",
       "  <tbody>\n",
       "    <tr>\n",
       "      <th>0</th>\n",
       "      <td>0.405769</td>\n",
       "      <td>-0.065385</td>\n",
       "      <td>0.6486</td>\n",
       "      <td>0.0</td>\n",
       "      <td>0.371</td>\n",
       "      <td>0.629</td>\n",
       "      <td>38623.699219</td>\n",
       "    </tr>\n",
       "    <tr>\n",
       "      <th>1</th>\n",
       "      <td>0.000000</td>\n",
       "      <td>0.000000</td>\n",
       "      <td>0.4588</td>\n",
       "      <td>0.0</td>\n",
       "      <td>0.273</td>\n",
       "      <td>0.727</td>\n",
       "      <td>38623.699219</td>\n",
       "    </tr>\n",
       "    <tr>\n",
       "      <th>2</th>\n",
       "      <td>0.000000</td>\n",
       "      <td>0.000000</td>\n",
       "      <td>0.0000</td>\n",
       "      <td>0.0</td>\n",
       "      <td>0.000</td>\n",
       "      <td>1.000</td>\n",
       "      <td>38623.699219</td>\n",
       "    </tr>\n",
       "    <tr>\n",
       "      <th>3</th>\n",
       "      <td>0.000000</td>\n",
       "      <td>0.000000</td>\n",
       "      <td>0.0000</td>\n",
       "      <td>0.0</td>\n",
       "      <td>0.000</td>\n",
       "      <td>1.000</td>\n",
       "      <td>38623.699219</td>\n",
       "    </tr>\n",
       "    <tr>\n",
       "      <th>4</th>\n",
       "      <td>0.000000</td>\n",
       "      <td>0.000000</td>\n",
       "      <td>0.0772</td>\n",
       "      <td>0.0</td>\n",
       "      <td>0.178</td>\n",
       "      <td>0.822</td>\n",
       "      <td>38623.699219</td>\n",
       "    </tr>\n",
       "  </tbody>\n",
       "</table>\n",
       "</div>"
      ],
      "text/plain": [
       "   Subjectivety  Polarity  Compound  Negative  Positive  Neutral         Close\n",
       "0      0.405769 -0.065385    0.6486       0.0     0.371    0.629  38623.699219\n",
       "1      0.000000  0.000000    0.4588       0.0     0.273    0.727  38623.699219\n",
       "2      0.000000  0.000000    0.0000       0.0     0.000    1.000  38623.699219\n",
       "3      0.000000  0.000000    0.0000       0.0     0.000    1.000  38623.699219\n",
       "4      0.000000  0.000000    0.0772       0.0     0.178    0.822  38623.699219"
      ]
     },
     "execution_count": 99,
     "metadata": {},
     "output_type": "execute_result"
    }
   ],
   "source": [
    "dataset_for_modelling.head()"
   ]
  },
  {
   "cell_type": "markdown",
   "metadata": {},
   "source": [
    "#### Normalize the values "
   ]
  },
  {
   "cell_type": "code",
   "execution_count": 100,
   "metadata": {},
   "outputs": [],
   "source": [
    "from sklearn.preprocessing import MinMaxScaler\n",
    "scaler = MinMaxScaler()\n",
    "scaled_dataset = pd.DataFrame(scaler.fit_transform(dataset_for_modelling))\n",
    "scaled_dataset.columns = dataset_for_modelling.columns"
   ]
  },
  {
   "cell_type": "code",
   "execution_count": 104,
   "metadata": {},
   "outputs": [
    {
     "data": {
      "text/html": [
       "<div>\n",
       "<style scoped>\n",
       "    .dataframe tbody tr th:only-of-type {\n",
       "        vertical-align: middle;\n",
       "    }\n",
       "\n",
       "    .dataframe tbody tr th {\n",
       "        vertical-align: top;\n",
       "    }\n",
       "\n",
       "    .dataframe thead th {\n",
       "        text-align: right;\n",
       "    }\n",
       "</style>\n",
       "<table border=\"1\" class=\"dataframe\">\n",
       "  <thead>\n",
       "    <tr style=\"text-align: right;\">\n",
       "      <th></th>\n",
       "      <th>Subjectivety</th>\n",
       "      <th>Polarity</th>\n",
       "      <th>Compound</th>\n",
       "      <th>Negative</th>\n",
       "      <th>Positive</th>\n",
       "      <th>Neutral</th>\n",
       "      <th>Close</th>\n",
       "    </tr>\n",
       "  </thead>\n",
       "  <tbody>\n",
       "    <tr>\n",
       "      <th>0</th>\n",
       "      <td>0.405769</td>\n",
       "      <td>0.519231</td>\n",
       "      <td>0.893913</td>\n",
       "      <td>0.0</td>\n",
       "      <td>0.457460</td>\n",
       "      <td>0.542540</td>\n",
       "      <td>1.0</td>\n",
       "    </tr>\n",
       "    <tr>\n",
       "      <th>1</th>\n",
       "      <td>0.000000</td>\n",
       "      <td>0.555556</td>\n",
       "      <td>0.783884</td>\n",
       "      <td>0.0</td>\n",
       "      <td>0.336621</td>\n",
       "      <td>0.663379</td>\n",
       "      <td>1.0</td>\n",
       "    </tr>\n",
       "    <tr>\n",
       "      <th>2</th>\n",
       "      <td>0.000000</td>\n",
       "      <td>0.555556</td>\n",
       "      <td>0.517913</td>\n",
       "      <td>0.0</td>\n",
       "      <td>0.000000</td>\n",
       "      <td>1.000000</td>\n",
       "      <td>1.0</td>\n",
       "    </tr>\n",
       "    <tr>\n",
       "      <th>3</th>\n",
       "      <td>0.000000</td>\n",
       "      <td>0.555556</td>\n",
       "      <td>0.517913</td>\n",
       "      <td>0.0</td>\n",
       "      <td>0.000000</td>\n",
       "      <td>1.000000</td>\n",
       "      <td>1.0</td>\n",
       "    </tr>\n",
       "    <tr>\n",
       "      <th>4</th>\n",
       "      <td>0.000000</td>\n",
       "      <td>0.555556</td>\n",
       "      <td>0.562667</td>\n",
       "      <td>0.0</td>\n",
       "      <td>0.219482</td>\n",
       "      <td>0.780518</td>\n",
       "      <td>1.0</td>\n",
       "    </tr>\n",
       "  </tbody>\n",
       "</table>\n",
       "</div>"
      ],
      "text/plain": [
       "   Subjectivety  Polarity  Compound  Negative  Positive   Neutral  Close\n",
       "0      0.405769  0.519231  0.893913       0.0  0.457460  0.542540    1.0\n",
       "1      0.000000  0.555556  0.783884       0.0  0.336621  0.663379    1.0\n",
       "2      0.000000  0.555556  0.517913       0.0  0.000000  1.000000    1.0\n",
       "3      0.000000  0.555556  0.517913       0.0  0.000000  1.000000    1.0\n",
       "4      0.000000  0.555556  0.562667       0.0  0.219482  0.780518    1.0"
      ]
     },
     "execution_count": 104,
     "metadata": {},
     "output_type": "execute_result"
    }
   ],
   "source": [
    "scaled_dataset.head()"
   ]
  },
  {
   "cell_type": "markdown",
   "metadata": {},
   "source": [
    "#### Seperate out the feature columns and the target column. The column to predict is 'Close'"
   ]
  },
  {
   "cell_type": "code",
   "execution_count": 105,
   "metadata": {},
   "outputs": [],
   "source": [
    "features_for_modelling = scaled_dataset[['Subjectivety','Polarity','Compound','Negative','Positive','Neutral']]"
   ]
  },
  {
   "cell_type": "code",
   "execution_count": 106,
   "metadata": {},
   "outputs": [],
   "source": [
    "predited_column = scaled_dataset.Close"
   ]
  },
  {
   "cell_type": "code",
   "execution_count": 107,
   "metadata": {},
   "outputs": [],
   "source": [
    "# Split the dataset into train and test sets.\n",
    "from sklearn.model_selection import train_test_split\n",
    "x_train, x_test, y_train, y_test = train_test_split(features_for_modelling, predited_column, test_size = 0.2)"
   ]
  },
  {
   "cell_type": "markdown",
   "metadata": {},
   "source": [
    "#### Decision Tree Regressor"
   ]
  },
  {
   "cell_type": "code",
   "execution_count": 108,
   "metadata": {},
   "outputs": [],
   "source": [
    "from sklearn.tree import DecisionTreeRegressor\n",
    "dtree = DecisionTreeRegressor()\n",
    "dtree.fit(x_train, y_train)\n",
    "predictions = dtree.predict(x_test)"
   ]
  },
  {
   "cell_type": "code",
   "execution_count": 114,
   "metadata": {
    "scrolled": true
   },
   "outputs": [
    {
     "data": {
      "text/plain": [
       "5.572482116569203"
      ]
     },
     "execution_count": 114,
     "metadata": {},
     "output_type": "execute_result"
    }
   ],
   "source": [
    "mean_squared_error(y_test, predictions)*100"
   ]
  },
  {
   "cell_type": "markdown",
   "metadata": {},
   "source": [
    "#### RandomForestRegressor"
   ]
  },
  {
   "cell_type": "code",
   "execution_count": 110,
   "metadata": {},
   "outputs": [],
   "source": [
    "from sklearn.ensemble import RandomForestRegressor\n",
    "random_forest_regressor = RandomForestRegressor()"
   ]
  },
  {
   "cell_type": "code",
   "execution_count": 111,
   "metadata": {
    "scrolled": true
   },
   "outputs": [
    {
     "data": {
      "text/plain": [
       "RandomForestRegressor()"
      ]
     },
     "execution_count": 111,
     "metadata": {},
     "output_type": "execute_result"
    }
   ],
   "source": [
    "random_forest_regressor.fit(x_train, y_train)"
   ]
  },
  {
   "cell_type": "code",
   "execution_count": 113,
   "metadata": {},
   "outputs": [
    {
     "data": {
      "text/plain": [
       "4.52964818297803"
      ]
     },
     "execution_count": 113,
     "metadata": {},
     "output_type": "execute_result"
    }
   ],
   "source": [
    "pred = random_forest_regressor.predict(x_test)\n",
    "mean_squared_error(y_test, pred)*100"
   ]
  },
  {
   "cell_type": "markdown",
   "metadata": {},
   "source": [
    "#### XG Boost Regressor"
   ]
  },
  {
   "cell_type": "code",
   "execution_count": 121,
   "metadata": {},
   "outputs": [],
   "source": [
    "xgboost_regressor = xgboost.XGBRegressor()"
   ]
  },
  {
   "cell_type": "code",
   "execution_count": 122,
   "metadata": {},
   "outputs": [],
   "source": [
    "xgboost_regressor.fit(x_train,y_train)\n",
    "predictions = xgboost_regressor.predict(x_test)"
   ]
  },
  {
   "cell_type": "code",
   "execution_count": 123,
   "metadata": {},
   "outputs": [
    {
     "data": {
      "text/plain": [
       "4.9823154655351525"
      ]
     },
     "execution_count": 123,
     "metadata": {},
     "output_type": "execute_result"
    }
   ],
   "source": [
    "mean_squared_error(y_test, predictions)*100"
   ]
  },
  {
   "cell_type": "markdown",
   "metadata": {},
   "source": [
    "## Conclusion"
   ]
  },
  {
   "cell_type": "markdown",
   "metadata": {},
   "source": [
    "For this study, \n",
    "1. RandomForestRegressor, performs better that DecisionTreeRegressor and XG Boost Regressor. \n",
    "2. Preprocessing of text data not only saves time but also can help improve the performance of the model."
   ]
  },
  {
   "cell_type": "markdown",
   "metadata": {},
   "source": [
    "##  Future Improvements"
   ]
  },
  {
   "cell_type": "markdown",
   "metadata": {},
   "source": [
    "1. Use Deep Learning Algorithm and analyze their performance.\n",
    "2. Use different text analytics techniques like Word2vec, glove etc."
   ]
  },
  {
   "cell_type": "markdown",
   "metadata": {},
   "source": [
    "## Acknowledgements:\n",
    "1. https://towardsdatascience.com/time-series-forecasting-using-auto-arima-in-python-bb83e49210cd"
   ]
  }
 ],
 "metadata": {
  "kernelspec": {
   "display_name": "Python 3",
   "language": "python",
   "name": "python3"
  },
  "language_info": {
   "codemirror_mode": {
    "name": "ipython",
    "version": 3
   },
   "file_extension": ".py",
   "mimetype": "text/x-python",
   "name": "python",
   "nbconvert_exporter": "python",
   "pygments_lexer": "ipython3",
   "version": "3.8.5"
  }
 },
 "nbformat": 4,
 "nbformat_minor": 4
}
